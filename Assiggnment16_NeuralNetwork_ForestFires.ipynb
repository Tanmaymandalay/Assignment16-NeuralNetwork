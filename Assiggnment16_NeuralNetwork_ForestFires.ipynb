{
  "nbformat": 4,
  "nbformat_minor": 0,
  "metadata": {
    "colab": {
      "name": "Assiggnment16_NeuralNetwork_ForestFires.ipynb",
      "provenance": [],
      "collapsed_sections": []
    },
    "kernelspec": {
      "name": "python3",
      "display_name": "Python 3"
    },
    "language_info": {
      "name": "python"
    }
  },
  "cells": [
    {
      "cell_type": "code",
      "metadata": {
        "id": "7tKQXxikWN0u"
      },
      "source": [
        "# Create your first MLP in Keras\n",
        "\n",
        "import numpy as np\n",
        "import pandas as pd\n",
        "from sklearn.preprocessing import StandardScaler"
      ],
      "execution_count": null,
      "outputs": []
    },
    {
      "cell_type": "code",
      "metadata": {
        "id": "VIvSbBgYWfEw"
      },
      "source": [
        "dataset=pd.read_csv('/content/forestfires.csv')"
      ],
      "execution_count": null,
      "outputs": []
    },
    {
      "cell_type": "code",
      "metadata": {
        "colab": {
          "base_uri": "https://localhost:8080/",
          "height": 443
        },
        "id": "y0U-QsJQWjDm",
        "outputId": "4160a4d0-1000-4448-de92-28974c8cb297"
      },
      "source": [
        "dataset"
      ],
      "execution_count": null,
      "outputs": [
        {
          "output_type": "execute_result",
          "data": {
            "text/html": [
              "<div>\n",
              "<style scoped>\n",
              "    .dataframe tbody tr th:only-of-type {\n",
              "        vertical-align: middle;\n",
              "    }\n",
              "\n",
              "    .dataframe tbody tr th {\n",
              "        vertical-align: top;\n",
              "    }\n",
              "\n",
              "    .dataframe thead th {\n",
              "        text-align: right;\n",
              "    }\n",
              "</style>\n",
              "<table border=\"1\" class=\"dataframe\">\n",
              "  <thead>\n",
              "    <tr style=\"text-align: right;\">\n",
              "      <th></th>\n",
              "      <th>month</th>\n",
              "      <th>day</th>\n",
              "      <th>FFMC</th>\n",
              "      <th>DMC</th>\n",
              "      <th>DC</th>\n",
              "      <th>ISI</th>\n",
              "      <th>temp</th>\n",
              "      <th>RH</th>\n",
              "      <th>wind</th>\n",
              "      <th>rain</th>\n",
              "      <th>area</th>\n",
              "      <th>dayfri</th>\n",
              "      <th>daymon</th>\n",
              "      <th>daysat</th>\n",
              "      <th>daysun</th>\n",
              "      <th>daythu</th>\n",
              "      <th>daytue</th>\n",
              "      <th>daywed</th>\n",
              "      <th>monthapr</th>\n",
              "      <th>monthaug</th>\n",
              "      <th>monthdec</th>\n",
              "      <th>monthfeb</th>\n",
              "      <th>monthjan</th>\n",
              "      <th>monthjul</th>\n",
              "      <th>monthjun</th>\n",
              "      <th>monthmar</th>\n",
              "      <th>monthmay</th>\n",
              "      <th>monthnov</th>\n",
              "      <th>monthoct</th>\n",
              "      <th>monthsep</th>\n",
              "      <th>size_category</th>\n",
              "    </tr>\n",
              "  </thead>\n",
              "  <tbody>\n",
              "    <tr>\n",
              "      <th>0</th>\n",
              "      <td>mar</td>\n",
              "      <td>fri</td>\n",
              "      <td>86.2</td>\n",
              "      <td>26.2</td>\n",
              "      <td>94.3</td>\n",
              "      <td>5.1</td>\n",
              "      <td>8.2</td>\n",
              "      <td>51</td>\n",
              "      <td>6.7</td>\n",
              "      <td>0.0</td>\n",
              "      <td>0.00</td>\n",
              "      <td>1</td>\n",
              "      <td>0</td>\n",
              "      <td>0</td>\n",
              "      <td>0</td>\n",
              "      <td>0</td>\n",
              "      <td>0</td>\n",
              "      <td>0</td>\n",
              "      <td>0</td>\n",
              "      <td>0</td>\n",
              "      <td>0</td>\n",
              "      <td>0</td>\n",
              "      <td>0</td>\n",
              "      <td>0</td>\n",
              "      <td>0</td>\n",
              "      <td>1</td>\n",
              "      <td>0</td>\n",
              "      <td>0</td>\n",
              "      <td>0</td>\n",
              "      <td>0</td>\n",
              "      <td>small</td>\n",
              "    </tr>\n",
              "    <tr>\n",
              "      <th>1</th>\n",
              "      <td>oct</td>\n",
              "      <td>tue</td>\n",
              "      <td>90.6</td>\n",
              "      <td>35.4</td>\n",
              "      <td>669.1</td>\n",
              "      <td>6.7</td>\n",
              "      <td>18.0</td>\n",
              "      <td>33</td>\n",
              "      <td>0.9</td>\n",
              "      <td>0.0</td>\n",
              "      <td>0.00</td>\n",
              "      <td>0</td>\n",
              "      <td>0</td>\n",
              "      <td>0</td>\n",
              "      <td>0</td>\n",
              "      <td>0</td>\n",
              "      <td>1</td>\n",
              "      <td>0</td>\n",
              "      <td>0</td>\n",
              "      <td>0</td>\n",
              "      <td>0</td>\n",
              "      <td>0</td>\n",
              "      <td>0</td>\n",
              "      <td>0</td>\n",
              "      <td>0</td>\n",
              "      <td>0</td>\n",
              "      <td>0</td>\n",
              "      <td>0</td>\n",
              "      <td>1</td>\n",
              "      <td>0</td>\n",
              "      <td>small</td>\n",
              "    </tr>\n",
              "    <tr>\n",
              "      <th>2</th>\n",
              "      <td>oct</td>\n",
              "      <td>sat</td>\n",
              "      <td>90.6</td>\n",
              "      <td>43.7</td>\n",
              "      <td>686.9</td>\n",
              "      <td>6.7</td>\n",
              "      <td>14.6</td>\n",
              "      <td>33</td>\n",
              "      <td>1.3</td>\n",
              "      <td>0.0</td>\n",
              "      <td>0.00</td>\n",
              "      <td>0</td>\n",
              "      <td>0</td>\n",
              "      <td>1</td>\n",
              "      <td>0</td>\n",
              "      <td>0</td>\n",
              "      <td>0</td>\n",
              "      <td>0</td>\n",
              "      <td>0</td>\n",
              "      <td>0</td>\n",
              "      <td>0</td>\n",
              "      <td>0</td>\n",
              "      <td>0</td>\n",
              "      <td>0</td>\n",
              "      <td>0</td>\n",
              "      <td>0</td>\n",
              "      <td>0</td>\n",
              "      <td>0</td>\n",
              "      <td>1</td>\n",
              "      <td>0</td>\n",
              "      <td>small</td>\n",
              "    </tr>\n",
              "    <tr>\n",
              "      <th>3</th>\n",
              "      <td>mar</td>\n",
              "      <td>fri</td>\n",
              "      <td>91.7</td>\n",
              "      <td>33.3</td>\n",
              "      <td>77.5</td>\n",
              "      <td>9.0</td>\n",
              "      <td>8.3</td>\n",
              "      <td>97</td>\n",
              "      <td>4.0</td>\n",
              "      <td>0.2</td>\n",
              "      <td>0.00</td>\n",
              "      <td>1</td>\n",
              "      <td>0</td>\n",
              "      <td>0</td>\n",
              "      <td>0</td>\n",
              "      <td>0</td>\n",
              "      <td>0</td>\n",
              "      <td>0</td>\n",
              "      <td>0</td>\n",
              "      <td>0</td>\n",
              "      <td>0</td>\n",
              "      <td>0</td>\n",
              "      <td>0</td>\n",
              "      <td>0</td>\n",
              "      <td>0</td>\n",
              "      <td>1</td>\n",
              "      <td>0</td>\n",
              "      <td>0</td>\n",
              "      <td>0</td>\n",
              "      <td>0</td>\n",
              "      <td>small</td>\n",
              "    </tr>\n",
              "    <tr>\n",
              "      <th>4</th>\n",
              "      <td>mar</td>\n",
              "      <td>sun</td>\n",
              "      <td>89.3</td>\n",
              "      <td>51.3</td>\n",
              "      <td>102.2</td>\n",
              "      <td>9.6</td>\n",
              "      <td>11.4</td>\n",
              "      <td>99</td>\n",
              "      <td>1.8</td>\n",
              "      <td>0.0</td>\n",
              "      <td>0.00</td>\n",
              "      <td>0</td>\n",
              "      <td>0</td>\n",
              "      <td>0</td>\n",
              "      <td>1</td>\n",
              "      <td>0</td>\n",
              "      <td>0</td>\n",
              "      <td>0</td>\n",
              "      <td>0</td>\n",
              "      <td>0</td>\n",
              "      <td>0</td>\n",
              "      <td>0</td>\n",
              "      <td>0</td>\n",
              "      <td>0</td>\n",
              "      <td>0</td>\n",
              "      <td>1</td>\n",
              "      <td>0</td>\n",
              "      <td>0</td>\n",
              "      <td>0</td>\n",
              "      <td>0</td>\n",
              "      <td>small</td>\n",
              "    </tr>\n",
              "    <tr>\n",
              "      <th>...</th>\n",
              "      <td>...</td>\n",
              "      <td>...</td>\n",
              "      <td>...</td>\n",
              "      <td>...</td>\n",
              "      <td>...</td>\n",
              "      <td>...</td>\n",
              "      <td>...</td>\n",
              "      <td>...</td>\n",
              "      <td>...</td>\n",
              "      <td>...</td>\n",
              "      <td>...</td>\n",
              "      <td>...</td>\n",
              "      <td>...</td>\n",
              "      <td>...</td>\n",
              "      <td>...</td>\n",
              "      <td>...</td>\n",
              "      <td>...</td>\n",
              "      <td>...</td>\n",
              "      <td>...</td>\n",
              "      <td>...</td>\n",
              "      <td>...</td>\n",
              "      <td>...</td>\n",
              "      <td>...</td>\n",
              "      <td>...</td>\n",
              "      <td>...</td>\n",
              "      <td>...</td>\n",
              "      <td>...</td>\n",
              "      <td>...</td>\n",
              "      <td>...</td>\n",
              "      <td>...</td>\n",
              "      <td>...</td>\n",
              "    </tr>\n",
              "    <tr>\n",
              "      <th>512</th>\n",
              "      <td>aug</td>\n",
              "      <td>sun</td>\n",
              "      <td>81.6</td>\n",
              "      <td>56.7</td>\n",
              "      <td>665.6</td>\n",
              "      <td>1.9</td>\n",
              "      <td>27.8</td>\n",
              "      <td>32</td>\n",
              "      <td>2.7</td>\n",
              "      <td>0.0</td>\n",
              "      <td>6.44</td>\n",
              "      <td>0</td>\n",
              "      <td>0</td>\n",
              "      <td>0</td>\n",
              "      <td>1</td>\n",
              "      <td>0</td>\n",
              "      <td>0</td>\n",
              "      <td>0</td>\n",
              "      <td>0</td>\n",
              "      <td>1</td>\n",
              "      <td>0</td>\n",
              "      <td>0</td>\n",
              "      <td>0</td>\n",
              "      <td>0</td>\n",
              "      <td>0</td>\n",
              "      <td>0</td>\n",
              "      <td>0</td>\n",
              "      <td>0</td>\n",
              "      <td>0</td>\n",
              "      <td>0</td>\n",
              "      <td>large</td>\n",
              "    </tr>\n",
              "    <tr>\n",
              "      <th>513</th>\n",
              "      <td>aug</td>\n",
              "      <td>sun</td>\n",
              "      <td>81.6</td>\n",
              "      <td>56.7</td>\n",
              "      <td>665.6</td>\n",
              "      <td>1.9</td>\n",
              "      <td>21.9</td>\n",
              "      <td>71</td>\n",
              "      <td>5.8</td>\n",
              "      <td>0.0</td>\n",
              "      <td>54.29</td>\n",
              "      <td>0</td>\n",
              "      <td>0</td>\n",
              "      <td>0</td>\n",
              "      <td>1</td>\n",
              "      <td>0</td>\n",
              "      <td>0</td>\n",
              "      <td>0</td>\n",
              "      <td>0</td>\n",
              "      <td>1</td>\n",
              "      <td>0</td>\n",
              "      <td>0</td>\n",
              "      <td>0</td>\n",
              "      <td>0</td>\n",
              "      <td>0</td>\n",
              "      <td>0</td>\n",
              "      <td>0</td>\n",
              "      <td>0</td>\n",
              "      <td>0</td>\n",
              "      <td>0</td>\n",
              "      <td>large</td>\n",
              "    </tr>\n",
              "    <tr>\n",
              "      <th>514</th>\n",
              "      <td>aug</td>\n",
              "      <td>sun</td>\n",
              "      <td>81.6</td>\n",
              "      <td>56.7</td>\n",
              "      <td>665.6</td>\n",
              "      <td>1.9</td>\n",
              "      <td>21.2</td>\n",
              "      <td>70</td>\n",
              "      <td>6.7</td>\n",
              "      <td>0.0</td>\n",
              "      <td>11.16</td>\n",
              "      <td>0</td>\n",
              "      <td>0</td>\n",
              "      <td>0</td>\n",
              "      <td>1</td>\n",
              "      <td>0</td>\n",
              "      <td>0</td>\n",
              "      <td>0</td>\n",
              "      <td>0</td>\n",
              "      <td>1</td>\n",
              "      <td>0</td>\n",
              "      <td>0</td>\n",
              "      <td>0</td>\n",
              "      <td>0</td>\n",
              "      <td>0</td>\n",
              "      <td>0</td>\n",
              "      <td>0</td>\n",
              "      <td>0</td>\n",
              "      <td>0</td>\n",
              "      <td>0</td>\n",
              "      <td>large</td>\n",
              "    </tr>\n",
              "    <tr>\n",
              "      <th>515</th>\n",
              "      <td>aug</td>\n",
              "      <td>sat</td>\n",
              "      <td>94.4</td>\n",
              "      <td>146.0</td>\n",
              "      <td>614.7</td>\n",
              "      <td>11.3</td>\n",
              "      <td>25.6</td>\n",
              "      <td>42</td>\n",
              "      <td>4.0</td>\n",
              "      <td>0.0</td>\n",
              "      <td>0.00</td>\n",
              "      <td>0</td>\n",
              "      <td>0</td>\n",
              "      <td>1</td>\n",
              "      <td>0</td>\n",
              "      <td>0</td>\n",
              "      <td>0</td>\n",
              "      <td>0</td>\n",
              "      <td>0</td>\n",
              "      <td>1</td>\n",
              "      <td>0</td>\n",
              "      <td>0</td>\n",
              "      <td>0</td>\n",
              "      <td>0</td>\n",
              "      <td>0</td>\n",
              "      <td>0</td>\n",
              "      <td>0</td>\n",
              "      <td>0</td>\n",
              "      <td>0</td>\n",
              "      <td>0</td>\n",
              "      <td>small</td>\n",
              "    </tr>\n",
              "    <tr>\n",
              "      <th>516</th>\n",
              "      <td>nov</td>\n",
              "      <td>tue</td>\n",
              "      <td>79.5</td>\n",
              "      <td>3.0</td>\n",
              "      <td>106.7</td>\n",
              "      <td>1.1</td>\n",
              "      <td>11.8</td>\n",
              "      <td>31</td>\n",
              "      <td>4.5</td>\n",
              "      <td>0.0</td>\n",
              "      <td>0.00</td>\n",
              "      <td>0</td>\n",
              "      <td>0</td>\n",
              "      <td>0</td>\n",
              "      <td>0</td>\n",
              "      <td>0</td>\n",
              "      <td>1</td>\n",
              "      <td>0</td>\n",
              "      <td>0</td>\n",
              "      <td>0</td>\n",
              "      <td>0</td>\n",
              "      <td>0</td>\n",
              "      <td>0</td>\n",
              "      <td>0</td>\n",
              "      <td>0</td>\n",
              "      <td>0</td>\n",
              "      <td>0</td>\n",
              "      <td>1</td>\n",
              "      <td>0</td>\n",
              "      <td>0</td>\n",
              "      <td>small</td>\n",
              "    </tr>\n",
              "  </tbody>\n",
              "</table>\n",
              "<p>517 rows × 31 columns</p>\n",
              "</div>"
            ],
            "text/plain": [
              "    month  day  FFMC    DMC  ...  monthnov  monthoct  monthsep  size_category\n",
              "0     mar  fri  86.2   26.2  ...         0         0         0          small\n",
              "1     oct  tue  90.6   35.4  ...         0         1         0          small\n",
              "2     oct  sat  90.6   43.7  ...         0         1         0          small\n",
              "3     mar  fri  91.7   33.3  ...         0         0         0          small\n",
              "4     mar  sun  89.3   51.3  ...         0         0         0          small\n",
              "..    ...  ...   ...    ...  ...       ...       ...       ...            ...\n",
              "512   aug  sun  81.6   56.7  ...         0         0         0          large\n",
              "513   aug  sun  81.6   56.7  ...         0         0         0          large\n",
              "514   aug  sun  81.6   56.7  ...         0         0         0          large\n",
              "515   aug  sat  94.4  146.0  ...         0         0         0          small\n",
              "516   nov  tue  79.5    3.0  ...         1         0         0          small\n",
              "\n",
              "[517 rows x 31 columns]"
            ]
          },
          "metadata": {},
          "execution_count": 5
        }
      ]
    },
    {
      "cell_type": "code",
      "metadata": {
        "colab": {
          "base_uri": "https://localhost:8080/",
          "height": 320
        },
        "id": "on2-FE1OcpLq",
        "outputId": "a47c44f5-819c-4c3b-aa61-b990c4c1bcd8"
      },
      "source": [
        "dataset.describe()"
      ],
      "execution_count": null,
      "outputs": [
        {
          "output_type": "execute_result",
          "data": {
            "text/html": [
              "<div>\n",
              "<style scoped>\n",
              "    .dataframe tbody tr th:only-of-type {\n",
              "        vertical-align: middle;\n",
              "    }\n",
              "\n",
              "    .dataframe tbody tr th {\n",
              "        vertical-align: top;\n",
              "    }\n",
              "\n",
              "    .dataframe thead th {\n",
              "        text-align: right;\n",
              "    }\n",
              "</style>\n",
              "<table border=\"1\" class=\"dataframe\">\n",
              "  <thead>\n",
              "    <tr style=\"text-align: right;\">\n",
              "      <th></th>\n",
              "      <th>FFMC</th>\n",
              "      <th>DMC</th>\n",
              "      <th>DC</th>\n",
              "      <th>ISI</th>\n",
              "      <th>temp</th>\n",
              "      <th>RH</th>\n",
              "      <th>wind</th>\n",
              "      <th>rain</th>\n",
              "      <th>area</th>\n",
              "      <th>dayfri</th>\n",
              "      <th>daymon</th>\n",
              "      <th>daysat</th>\n",
              "      <th>daysun</th>\n",
              "      <th>daythu</th>\n",
              "      <th>daytue</th>\n",
              "      <th>daywed</th>\n",
              "      <th>monthapr</th>\n",
              "      <th>monthaug</th>\n",
              "      <th>monthdec</th>\n",
              "      <th>monthfeb</th>\n",
              "      <th>monthjan</th>\n",
              "      <th>monthjul</th>\n",
              "      <th>monthjun</th>\n",
              "      <th>monthmar</th>\n",
              "      <th>monthmay</th>\n",
              "      <th>monthnov</th>\n",
              "      <th>monthoct</th>\n",
              "      <th>monthsep</th>\n",
              "    </tr>\n",
              "  </thead>\n",
              "  <tbody>\n",
              "    <tr>\n",
              "      <th>count</th>\n",
              "      <td>517.000000</td>\n",
              "      <td>517.000000</td>\n",
              "      <td>517.000000</td>\n",
              "      <td>517.000000</td>\n",
              "      <td>517.000000</td>\n",
              "      <td>517.000000</td>\n",
              "      <td>517.000000</td>\n",
              "      <td>517.000000</td>\n",
              "      <td>517.000000</td>\n",
              "      <td>517.000000</td>\n",
              "      <td>517.000000</td>\n",
              "      <td>517.000000</td>\n",
              "      <td>517.000000</td>\n",
              "      <td>517.000000</td>\n",
              "      <td>517.000000</td>\n",
              "      <td>517.000000</td>\n",
              "      <td>517.000000</td>\n",
              "      <td>517.000000</td>\n",
              "      <td>517.000000</td>\n",
              "      <td>517.000000</td>\n",
              "      <td>517.000000</td>\n",
              "      <td>517.000000</td>\n",
              "      <td>517.000000</td>\n",
              "      <td>517.000000</td>\n",
              "      <td>517.000000</td>\n",
              "      <td>517.000000</td>\n",
              "      <td>517.000000</td>\n",
              "      <td>517.000000</td>\n",
              "    </tr>\n",
              "    <tr>\n",
              "      <th>mean</th>\n",
              "      <td>90.644681</td>\n",
              "      <td>110.872340</td>\n",
              "      <td>547.940039</td>\n",
              "      <td>9.021663</td>\n",
              "      <td>18.889168</td>\n",
              "      <td>44.288201</td>\n",
              "      <td>4.017602</td>\n",
              "      <td>0.021663</td>\n",
              "      <td>12.847292</td>\n",
              "      <td>0.164410</td>\n",
              "      <td>0.143133</td>\n",
              "      <td>0.162476</td>\n",
              "      <td>0.183752</td>\n",
              "      <td>0.117988</td>\n",
              "      <td>0.123791</td>\n",
              "      <td>0.104449</td>\n",
              "      <td>0.017408</td>\n",
              "      <td>0.355899</td>\n",
              "      <td>0.017408</td>\n",
              "      <td>0.038685</td>\n",
              "      <td>0.003868</td>\n",
              "      <td>0.061896</td>\n",
              "      <td>0.032882</td>\n",
              "      <td>0.104449</td>\n",
              "      <td>0.003868</td>\n",
              "      <td>0.001934</td>\n",
              "      <td>0.029014</td>\n",
              "      <td>0.332689</td>\n",
              "    </tr>\n",
              "    <tr>\n",
              "      <th>std</th>\n",
              "      <td>5.520111</td>\n",
              "      <td>64.046482</td>\n",
              "      <td>248.066192</td>\n",
              "      <td>4.559477</td>\n",
              "      <td>5.806625</td>\n",
              "      <td>16.317469</td>\n",
              "      <td>1.791653</td>\n",
              "      <td>0.295959</td>\n",
              "      <td>63.655818</td>\n",
              "      <td>0.371006</td>\n",
              "      <td>0.350548</td>\n",
              "      <td>0.369244</td>\n",
              "      <td>0.387657</td>\n",
              "      <td>0.322907</td>\n",
              "      <td>0.329662</td>\n",
              "      <td>0.306138</td>\n",
              "      <td>0.130913</td>\n",
              "      <td>0.479249</td>\n",
              "      <td>0.130913</td>\n",
              "      <td>0.193029</td>\n",
              "      <td>0.062137</td>\n",
              "      <td>0.241199</td>\n",
              "      <td>0.178500</td>\n",
              "      <td>0.306138</td>\n",
              "      <td>0.062137</td>\n",
              "      <td>0.043980</td>\n",
              "      <td>0.168007</td>\n",
              "      <td>0.471632</td>\n",
              "    </tr>\n",
              "    <tr>\n",
              "      <th>min</th>\n",
              "      <td>18.700000</td>\n",
              "      <td>1.100000</td>\n",
              "      <td>7.900000</td>\n",
              "      <td>0.000000</td>\n",
              "      <td>2.200000</td>\n",
              "      <td>15.000000</td>\n",
              "      <td>0.400000</td>\n",
              "      <td>0.000000</td>\n",
              "      <td>0.000000</td>\n",
              "      <td>0.000000</td>\n",
              "      <td>0.000000</td>\n",
              "      <td>0.000000</td>\n",
              "      <td>0.000000</td>\n",
              "      <td>0.000000</td>\n",
              "      <td>0.000000</td>\n",
              "      <td>0.000000</td>\n",
              "      <td>0.000000</td>\n",
              "      <td>0.000000</td>\n",
              "      <td>0.000000</td>\n",
              "      <td>0.000000</td>\n",
              "      <td>0.000000</td>\n",
              "      <td>0.000000</td>\n",
              "      <td>0.000000</td>\n",
              "      <td>0.000000</td>\n",
              "      <td>0.000000</td>\n",
              "      <td>0.000000</td>\n",
              "      <td>0.000000</td>\n",
              "      <td>0.000000</td>\n",
              "    </tr>\n",
              "    <tr>\n",
              "      <th>25%</th>\n",
              "      <td>90.200000</td>\n",
              "      <td>68.600000</td>\n",
              "      <td>437.700000</td>\n",
              "      <td>6.500000</td>\n",
              "      <td>15.500000</td>\n",
              "      <td>33.000000</td>\n",
              "      <td>2.700000</td>\n",
              "      <td>0.000000</td>\n",
              "      <td>0.000000</td>\n",
              "      <td>0.000000</td>\n",
              "      <td>0.000000</td>\n",
              "      <td>0.000000</td>\n",
              "      <td>0.000000</td>\n",
              "      <td>0.000000</td>\n",
              "      <td>0.000000</td>\n",
              "      <td>0.000000</td>\n",
              "      <td>0.000000</td>\n",
              "      <td>0.000000</td>\n",
              "      <td>0.000000</td>\n",
              "      <td>0.000000</td>\n",
              "      <td>0.000000</td>\n",
              "      <td>0.000000</td>\n",
              "      <td>0.000000</td>\n",
              "      <td>0.000000</td>\n",
              "      <td>0.000000</td>\n",
              "      <td>0.000000</td>\n",
              "      <td>0.000000</td>\n",
              "      <td>0.000000</td>\n",
              "    </tr>\n",
              "    <tr>\n",
              "      <th>50%</th>\n",
              "      <td>91.600000</td>\n",
              "      <td>108.300000</td>\n",
              "      <td>664.200000</td>\n",
              "      <td>8.400000</td>\n",
              "      <td>19.300000</td>\n",
              "      <td>42.000000</td>\n",
              "      <td>4.000000</td>\n",
              "      <td>0.000000</td>\n",
              "      <td>0.520000</td>\n",
              "      <td>0.000000</td>\n",
              "      <td>0.000000</td>\n",
              "      <td>0.000000</td>\n",
              "      <td>0.000000</td>\n",
              "      <td>0.000000</td>\n",
              "      <td>0.000000</td>\n",
              "      <td>0.000000</td>\n",
              "      <td>0.000000</td>\n",
              "      <td>0.000000</td>\n",
              "      <td>0.000000</td>\n",
              "      <td>0.000000</td>\n",
              "      <td>0.000000</td>\n",
              "      <td>0.000000</td>\n",
              "      <td>0.000000</td>\n",
              "      <td>0.000000</td>\n",
              "      <td>0.000000</td>\n",
              "      <td>0.000000</td>\n",
              "      <td>0.000000</td>\n",
              "      <td>0.000000</td>\n",
              "    </tr>\n",
              "    <tr>\n",
              "      <th>75%</th>\n",
              "      <td>92.900000</td>\n",
              "      <td>142.400000</td>\n",
              "      <td>713.900000</td>\n",
              "      <td>10.800000</td>\n",
              "      <td>22.800000</td>\n",
              "      <td>53.000000</td>\n",
              "      <td>4.900000</td>\n",
              "      <td>0.000000</td>\n",
              "      <td>6.570000</td>\n",
              "      <td>0.000000</td>\n",
              "      <td>0.000000</td>\n",
              "      <td>0.000000</td>\n",
              "      <td>0.000000</td>\n",
              "      <td>0.000000</td>\n",
              "      <td>0.000000</td>\n",
              "      <td>0.000000</td>\n",
              "      <td>0.000000</td>\n",
              "      <td>1.000000</td>\n",
              "      <td>0.000000</td>\n",
              "      <td>0.000000</td>\n",
              "      <td>0.000000</td>\n",
              "      <td>0.000000</td>\n",
              "      <td>0.000000</td>\n",
              "      <td>0.000000</td>\n",
              "      <td>0.000000</td>\n",
              "      <td>0.000000</td>\n",
              "      <td>0.000000</td>\n",
              "      <td>1.000000</td>\n",
              "    </tr>\n",
              "    <tr>\n",
              "      <th>max</th>\n",
              "      <td>96.200000</td>\n",
              "      <td>291.300000</td>\n",
              "      <td>860.600000</td>\n",
              "      <td>56.100000</td>\n",
              "      <td>33.300000</td>\n",
              "      <td>100.000000</td>\n",
              "      <td>9.400000</td>\n",
              "      <td>6.400000</td>\n",
              "      <td>1090.840000</td>\n",
              "      <td>1.000000</td>\n",
              "      <td>1.000000</td>\n",
              "      <td>1.000000</td>\n",
              "      <td>1.000000</td>\n",
              "      <td>1.000000</td>\n",
              "      <td>1.000000</td>\n",
              "      <td>1.000000</td>\n",
              "      <td>1.000000</td>\n",
              "      <td>1.000000</td>\n",
              "      <td>1.000000</td>\n",
              "      <td>1.000000</td>\n",
              "      <td>1.000000</td>\n",
              "      <td>1.000000</td>\n",
              "      <td>1.000000</td>\n",
              "      <td>1.000000</td>\n",
              "      <td>1.000000</td>\n",
              "      <td>1.000000</td>\n",
              "      <td>1.000000</td>\n",
              "      <td>1.000000</td>\n",
              "    </tr>\n",
              "  </tbody>\n",
              "</table>\n",
              "</div>"
            ],
            "text/plain": [
              "             FFMC         DMC          DC  ...    monthnov    monthoct    monthsep\n",
              "count  517.000000  517.000000  517.000000  ...  517.000000  517.000000  517.000000\n",
              "mean    90.644681  110.872340  547.940039  ...    0.001934    0.029014    0.332689\n",
              "std      5.520111   64.046482  248.066192  ...    0.043980    0.168007    0.471632\n",
              "min     18.700000    1.100000    7.900000  ...    0.000000    0.000000    0.000000\n",
              "25%     90.200000   68.600000  437.700000  ...    0.000000    0.000000    0.000000\n",
              "50%     91.600000  108.300000  664.200000  ...    0.000000    0.000000    0.000000\n",
              "75%     92.900000  142.400000  713.900000  ...    0.000000    0.000000    1.000000\n",
              "max     96.200000  291.300000  860.600000  ...    1.000000    1.000000    1.000000\n",
              "\n",
              "[8 rows x 28 columns]"
            ]
          },
          "metadata": {},
          "execution_count": 6
        }
      ]
    },
    {
      "cell_type": "code",
      "metadata": {
        "colab": {
          "base_uri": "https://localhost:8080/"
        },
        "id": "-llly6_pct9b",
        "outputId": "09a18de8-e504-43a7-d2ad-2034b4220934"
      },
      "source": [
        "dataset.isna"
      ],
      "execution_count": null,
      "outputs": [
        {
          "output_type": "execute_result",
          "data": {
            "text/plain": [
              "<bound method DataFrame.isna of     month  day  FFMC    DMC  ...  monthnov  monthoct  monthsep  size_category\n",
              "0     mar  fri  86.2   26.2  ...         0         0         0          small\n",
              "1     oct  tue  90.6   35.4  ...         0         1         0          small\n",
              "2     oct  sat  90.6   43.7  ...         0         1         0          small\n",
              "3     mar  fri  91.7   33.3  ...         0         0         0          small\n",
              "4     mar  sun  89.3   51.3  ...         0         0         0          small\n",
              "..    ...  ...   ...    ...  ...       ...       ...       ...            ...\n",
              "512   aug  sun  81.6   56.7  ...         0         0         0          large\n",
              "513   aug  sun  81.6   56.7  ...         0         0         0          large\n",
              "514   aug  sun  81.6   56.7  ...         0         0         0          large\n",
              "515   aug  sat  94.4  146.0  ...         0         0         0          small\n",
              "516   nov  tue  79.5    3.0  ...         1         0         0          small\n",
              "\n",
              "[517 rows x 31 columns]>"
            ]
          },
          "metadata": {},
          "execution_count": 7
        }
      ]
    },
    {
      "cell_type": "code",
      "metadata": {
        "id": "sNrlopcdfOf_"
      },
      "source": [
        "#Dummy variables are already created, so we will remove the month and alsoday columns\n",
        "dataset.drop([\"month\",\"day\"],axis=1,inplace = True)"
      ],
      "execution_count": null,
      "outputs": []
    },
    {
      "cell_type": "code",
      "source": [
        "def norm_func(i):\n",
        "    x = (i-i.min())/(i.max()-i.min())\n",
        "    return (x)"
      ],
      "metadata": {
        "id": "15TlF6wYwnU1"
      },
      "execution_count": null,
      "outputs": []
    },
    {
      "cell_type": "code",
      "metadata": {
        "id": "0gy73_ObXYcV"
      },
      "source": [
        "# split into input (X) and output (Y) variables\n",
        "X = dataset.iloc[:,0:28]\n",
        "Y = dataset.iloc[:,28]"
      ],
      "execution_count": null,
      "outputs": []
    },
    {
      "cell_type": "code",
      "metadata": {
        "id": "6wkBj0Yvgze3"
      },
      "source": [
        "a = StandardScaler()\n",
        "a.fit(X)\n",
        "X_standardized = a.transform(X)"
      ],
      "execution_count": null,
      "outputs": []
    },
    {
      "cell_type": "code",
      "metadata": {
        "colab": {
          "base_uri": "https://localhost:8080/"
        },
        "id": "3qCfYFzahzCy",
        "outputId": "02cb3dd7-6e9d-49eb-b908-a6d62d7cdbbd"
      },
      "source": [
        "pd.DataFrame(X_standardized).describe"
      ],
      "execution_count": null,
      "outputs": [
        {
          "output_type": "execute_result",
          "data": {
            "text/plain": [
              "<bound method NDFrame.describe of            0         1         2   ...         25        26        27\n",
              "0   -0.805959 -1.323326 -1.830477  ...  -0.044023 -0.172860 -0.706081\n",
              "1   -0.008102 -1.179541  0.488891  ...  -0.044023  5.785038 -0.706081\n",
              "2   -0.008102 -1.049822  0.560715  ...  -0.044023  5.785038 -0.706081\n",
              "3    0.191362 -1.212361 -1.898266  ...  -0.044023 -0.172860 -0.706081\n",
              "4   -0.243833 -0.931043 -1.798600  ...  -0.044023 -0.172860 -0.706081\n",
              "..        ...       ...       ...  ...        ...       ...       ...\n",
              "512 -1.640083 -0.846648  0.474768  ...  -0.044023 -0.172860 -0.706081\n",
              "513 -1.640083 -0.846648  0.474768  ...  -0.044023 -0.172860 -0.706081\n",
              "514 -1.640083 -0.846648  0.474768  ...  -0.044023 -0.172860 -0.706081\n",
              "515  0.680957  0.549003  0.269382  ...  -0.044023 -0.172860 -0.706081\n",
              "516 -2.020879 -1.685913 -1.780442  ...  22.715633 -0.172860 -0.706081\n",
              "\n",
              "[517 rows x 28 columns]>"
            ]
          },
          "metadata": {},
          "execution_count": 11
        }
      ]
    },
    {
      "cell_type": "code",
      "metadata": {
        "id": "f85ysqQYj5U-"
      },
      "source": [
        "!pip install tensorflow"
      ],
      "execution_count": null,
      "outputs": []
    },
    {
      "cell_type": "code",
      "metadata": {
        "id": "PGBFLfY-iSos"
      },
      "source": [
        "from keras.models import Sequential\n",
        "from keras.layers import Dense\n",
        "from sklearn.model_selection import GridSearchCV , KFold\n",
        "from keras.wrappers.scikit_learn import KerasClassifier\n",
        "from tensorflow.keras.optimizers import Adam\n",
        "#import tensorflow as tf\n",
        "#optim = tf.keras.optimizers.Adam()"
      ],
      "execution_count": null,
      "outputs": []
    },
    {
      "cell_type": "code",
      "metadata": {
        "colab": {
          "base_uri": "https://localhost:8080/",
          "height": 443
        },
        "id": "UlLPS0XqyQng",
        "outputId": "baf6fc3b-37d3-4080-f4be-1150c6320361"
      },
      "source": [
        "from sklearn.preprocessing import LabelEncoder\n",
        "label_encoder_x=LabelEncoder()\n",
        "X=X.apply(LabelEncoder().fit_transform)\n",
        "X"
      ],
      "execution_count": null,
      "outputs": [
        {
          "output_type": "execute_result",
          "data": {
            "text/html": [
              "<div>\n",
              "<style scoped>\n",
              "    .dataframe tbody tr th:only-of-type {\n",
              "        vertical-align: middle;\n",
              "    }\n",
              "\n",
              "    .dataframe tbody tr th {\n",
              "        vertical-align: top;\n",
              "    }\n",
              "\n",
              "    .dataframe thead th {\n",
              "        text-align: right;\n",
              "    }\n",
              "</style>\n",
              "<table border=\"1\" class=\"dataframe\">\n",
              "  <thead>\n",
              "    <tr style=\"text-align: right;\">\n",
              "      <th></th>\n",
              "      <th>FFMC</th>\n",
              "      <th>DMC</th>\n",
              "      <th>DC</th>\n",
              "      <th>ISI</th>\n",
              "      <th>temp</th>\n",
              "      <th>RH</th>\n",
              "      <th>wind</th>\n",
              "      <th>rain</th>\n",
              "      <th>area</th>\n",
              "      <th>dayfri</th>\n",
              "      <th>daymon</th>\n",
              "      <th>daysat</th>\n",
              "      <th>daysun</th>\n",
              "      <th>daythu</th>\n",
              "      <th>daytue</th>\n",
              "      <th>daywed</th>\n",
              "      <th>monthapr</th>\n",
              "      <th>monthaug</th>\n",
              "      <th>monthdec</th>\n",
              "      <th>monthfeb</th>\n",
              "      <th>monthjan</th>\n",
              "      <th>monthjul</th>\n",
              "      <th>monthjun</th>\n",
              "      <th>monthmar</th>\n",
              "      <th>monthmay</th>\n",
              "      <th>monthnov</th>\n",
              "      <th>monthoct</th>\n",
              "      <th>monthsep</th>\n",
              "    </tr>\n",
              "  </thead>\n",
              "  <tbody>\n",
              "    <tr>\n",
              "      <th>0</th>\n",
              "      <td>28</td>\n",
              "      <td>37</td>\n",
              "      <td>41</td>\n",
              "      <td>29</td>\n",
              "      <td>12</td>\n",
              "      <td>34</td>\n",
              "      <td>14</td>\n",
              "      <td>0</td>\n",
              "      <td>0</td>\n",
              "      <td>1</td>\n",
              "      <td>0</td>\n",
              "      <td>0</td>\n",
              "      <td>0</td>\n",
              "      <td>0</td>\n",
              "      <td>0</td>\n",
              "      <td>0</td>\n",
              "      <td>0</td>\n",
              "      <td>0</td>\n",
              "      <td>0</td>\n",
              "      <td>0</td>\n",
              "      <td>0</td>\n",
              "      <td>0</td>\n",
              "      <td>0</td>\n",
              "      <td>1</td>\n",
              "      <td>0</td>\n",
              "      <td>0</td>\n",
              "      <td>0</td>\n",
              "      <td>0</td>\n",
              "    </tr>\n",
              "    <tr>\n",
              "      <th>1</th>\n",
              "      <td>56</td>\n",
              "      <td>49</td>\n",
              "      <td>144</td>\n",
              "      <td>42</td>\n",
              "      <td>85</td>\n",
              "      <td>16</td>\n",
              "      <td>1</td>\n",
              "      <td>0</td>\n",
              "      <td>0</td>\n",
              "      <td>0</td>\n",
              "      <td>0</td>\n",
              "      <td>0</td>\n",
              "      <td>0</td>\n",
              "      <td>0</td>\n",
              "      <td>1</td>\n",
              "      <td>0</td>\n",
              "      <td>0</td>\n",
              "      <td>0</td>\n",
              "      <td>0</td>\n",
              "      <td>0</td>\n",
              "      <td>0</td>\n",
              "      <td>0</td>\n",
              "      <td>0</td>\n",
              "      <td>0</td>\n",
              "      <td>0</td>\n",
              "      <td>0</td>\n",
              "      <td>1</td>\n",
              "      <td>0</td>\n",
              "    </tr>\n",
              "    <tr>\n",
              "      <th>2</th>\n",
              "      <td>56</td>\n",
              "      <td>56</td>\n",
              "      <td>156</td>\n",
              "      <td>42</td>\n",
              "      <td>55</td>\n",
              "      <td>16</td>\n",
              "      <td>2</td>\n",
              "      <td>0</td>\n",
              "      <td>0</td>\n",
              "      <td>0</td>\n",
              "      <td>0</td>\n",
              "      <td>1</td>\n",
              "      <td>0</td>\n",
              "      <td>0</td>\n",
              "      <td>0</td>\n",
              "      <td>0</td>\n",
              "      <td>0</td>\n",
              "      <td>0</td>\n",
              "      <td>0</td>\n",
              "      <td>0</td>\n",
              "      <td>0</td>\n",
              "      <td>0</td>\n",
              "      <td>0</td>\n",
              "      <td>0</td>\n",
              "      <td>0</td>\n",
              "      <td>0</td>\n",
              "      <td>1</td>\n",
              "      <td>0</td>\n",
              "    </tr>\n",
              "    <tr>\n",
              "      <th>3</th>\n",
              "      <td>67</td>\n",
              "      <td>48</td>\n",
              "      <td>33</td>\n",
              "      <td>64</td>\n",
              "      <td>13</td>\n",
              "      <td>72</td>\n",
              "      <td>8</td>\n",
              "      <td>1</td>\n",
              "      <td>0</td>\n",
              "      <td>1</td>\n",
              "      <td>0</td>\n",
              "      <td>0</td>\n",
              "      <td>0</td>\n",
              "      <td>0</td>\n",
              "      <td>0</td>\n",
              "      <td>0</td>\n",
              "      <td>0</td>\n",
              "      <td>0</td>\n",
              "      <td>0</td>\n",
              "      <td>0</td>\n",
              "      <td>0</td>\n",
              "      <td>0</td>\n",
              "      <td>0</td>\n",
              "      <td>1</td>\n",
              "      <td>0</td>\n",
              "      <td>0</td>\n",
              "      <td>0</td>\n",
              "      <td>0</td>\n",
              "    </tr>\n",
              "    <tr>\n",
              "      <th>4</th>\n",
              "      <td>46</td>\n",
              "      <td>66</td>\n",
              "      <td>46</td>\n",
              "      <td>68</td>\n",
              "      <td>30</td>\n",
              "      <td>73</td>\n",
              "      <td>3</td>\n",
              "      <td>0</td>\n",
              "      <td>0</td>\n",
              "      <td>0</td>\n",
              "      <td>0</td>\n",
              "      <td>0</td>\n",
              "      <td>1</td>\n",
              "      <td>0</td>\n",
              "      <td>0</td>\n",
              "      <td>0</td>\n",
              "      <td>0</td>\n",
              "      <td>0</td>\n",
              "      <td>0</td>\n",
              "      <td>0</td>\n",
              "      <td>0</td>\n",
              "      <td>0</td>\n",
              "      <td>0</td>\n",
              "      <td>1</td>\n",
              "      <td>0</td>\n",
              "      <td>0</td>\n",
              "      <td>0</td>\n",
              "      <td>0</td>\n",
              "    </tr>\n",
              "    <tr>\n",
              "      <th>...</th>\n",
              "      <td>...</td>\n",
              "      <td>...</td>\n",
              "      <td>...</td>\n",
              "      <td>...</td>\n",
              "      <td>...</td>\n",
              "      <td>...</td>\n",
              "      <td>...</td>\n",
              "      <td>...</td>\n",
              "      <td>...</td>\n",
              "      <td>...</td>\n",
              "      <td>...</td>\n",
              "      <td>...</td>\n",
              "      <td>...</td>\n",
              "      <td>...</td>\n",
              "      <td>...</td>\n",
              "      <td>...</td>\n",
              "      <td>...</td>\n",
              "      <td>...</td>\n",
              "      <td>...</td>\n",
              "      <td>...</td>\n",
              "      <td>...</td>\n",
              "      <td>...</td>\n",
              "      <td>...</td>\n",
              "      <td>...</td>\n",
              "      <td>...</td>\n",
              "      <td>...</td>\n",
              "      <td>...</td>\n",
              "      <td>...</td>\n",
              "    </tr>\n",
              "    <tr>\n",
              "      <th>512</th>\n",
              "      <td>9</td>\n",
              "      <td>71</td>\n",
              "      <td>141</td>\n",
              "      <td>7</td>\n",
              "      <td>172</td>\n",
              "      <td>15</td>\n",
              "      <td>5</td>\n",
              "      <td>0</td>\n",
              "      <td>123</td>\n",
              "      <td>0</td>\n",
              "      <td>0</td>\n",
              "      <td>0</td>\n",
              "      <td>1</td>\n",
              "      <td>0</td>\n",
              "      <td>0</td>\n",
              "      <td>0</td>\n",
              "      <td>0</td>\n",
              "      <td>1</td>\n",
              "      <td>0</td>\n",
              "      <td>0</td>\n",
              "      <td>0</td>\n",
              "      <td>0</td>\n",
              "      <td>0</td>\n",
              "      <td>0</td>\n",
              "      <td>0</td>\n",
              "      <td>0</td>\n",
              "      <td>0</td>\n",
              "      <td>0</td>\n",
              "    </tr>\n",
              "    <tr>\n",
              "      <th>513</th>\n",
              "      <td>9</td>\n",
              "      <td>71</td>\n",
              "      <td>141</td>\n",
              "      <td>7</td>\n",
              "      <td>123</td>\n",
              "      <td>54</td>\n",
              "      <td>12</td>\n",
              "      <td>0</td>\n",
              "      <td>228</td>\n",
              "      <td>0</td>\n",
              "      <td>0</td>\n",
              "      <td>0</td>\n",
              "      <td>1</td>\n",
              "      <td>0</td>\n",
              "      <td>0</td>\n",
              "      <td>0</td>\n",
              "      <td>0</td>\n",
              "      <td>1</td>\n",
              "      <td>0</td>\n",
              "      <td>0</td>\n",
              "      <td>0</td>\n",
              "      <td>0</td>\n",
              "      <td>0</td>\n",
              "      <td>0</td>\n",
              "      <td>0</td>\n",
              "      <td>0</td>\n",
              "      <td>0</td>\n",
              "      <td>0</td>\n",
              "    </tr>\n",
              "    <tr>\n",
              "      <th>514</th>\n",
              "      <td>9</td>\n",
              "      <td>71</td>\n",
              "      <td>141</td>\n",
              "      <td>7</td>\n",
              "      <td>116</td>\n",
              "      <td>53</td>\n",
              "      <td>14</td>\n",
              "      <td>0</td>\n",
              "      <td>167</td>\n",
              "      <td>0</td>\n",
              "      <td>0</td>\n",
              "      <td>0</td>\n",
              "      <td>1</td>\n",
              "      <td>0</td>\n",
              "      <td>0</td>\n",
              "      <td>0</td>\n",
              "      <td>0</td>\n",
              "      <td>1</td>\n",
              "      <td>0</td>\n",
              "      <td>0</td>\n",
              "      <td>0</td>\n",
              "      <td>0</td>\n",
              "      <td>0</td>\n",
              "      <td>0</td>\n",
              "      <td>0</td>\n",
              "      <td>0</td>\n",
              "      <td>0</td>\n",
              "      <td>0</td>\n",
              "    </tr>\n",
              "    <tr>\n",
              "      <th>515</th>\n",
              "      <td>92</td>\n",
              "      <td>168</td>\n",
              "      <td>122</td>\n",
              "      <td>80</td>\n",
              "      <td>156</td>\n",
              "      <td>25</td>\n",
              "      <td>8</td>\n",
              "      <td>0</td>\n",
              "      <td>0</td>\n",
              "      <td>0</td>\n",
              "      <td>0</td>\n",
              "      <td>1</td>\n",
              "      <td>0</td>\n",
              "      <td>0</td>\n",
              "      <td>0</td>\n",
              "      <td>0</td>\n",
              "      <td>0</td>\n",
              "      <td>1</td>\n",
              "      <td>0</td>\n",
              "      <td>0</td>\n",
              "      <td>0</td>\n",
              "      <td>0</td>\n",
              "      <td>0</td>\n",
              "      <td>0</td>\n",
              "      <td>0</td>\n",
              "      <td>0</td>\n",
              "      <td>0</td>\n",
              "      <td>0</td>\n",
              "    </tr>\n",
              "    <tr>\n",
              "      <th>516</th>\n",
              "      <td>7</td>\n",
              "      <td>2</td>\n",
              "      <td>48</td>\n",
              "      <td>4</td>\n",
              "      <td>34</td>\n",
              "      <td>14</td>\n",
              "      <td>9</td>\n",
              "      <td>0</td>\n",
              "      <td>0</td>\n",
              "      <td>0</td>\n",
              "      <td>0</td>\n",
              "      <td>0</td>\n",
              "      <td>0</td>\n",
              "      <td>0</td>\n",
              "      <td>1</td>\n",
              "      <td>0</td>\n",
              "      <td>0</td>\n",
              "      <td>0</td>\n",
              "      <td>0</td>\n",
              "      <td>0</td>\n",
              "      <td>0</td>\n",
              "      <td>0</td>\n",
              "      <td>0</td>\n",
              "      <td>0</td>\n",
              "      <td>0</td>\n",
              "      <td>1</td>\n",
              "      <td>0</td>\n",
              "      <td>0</td>\n",
              "    </tr>\n",
              "  </tbody>\n",
              "</table>\n",
              "<p>517 rows × 28 columns</p>\n",
              "</div>"
            ],
            "text/plain": [
              "     FFMC  DMC   DC  ISI  ...  monthmay  monthnov  monthoct  monthsep\n",
              "0      28   37   41   29  ...         0         0         0         0\n",
              "1      56   49  144   42  ...         0         0         1         0\n",
              "2      56   56  156   42  ...         0         0         1         0\n",
              "3      67   48   33   64  ...         0         0         0         0\n",
              "4      46   66   46   68  ...         0         0         0         0\n",
              "..    ...  ...  ...  ...  ...       ...       ...       ...       ...\n",
              "512     9   71  141    7  ...         0         0         0         0\n",
              "513     9   71  141    7  ...         0         0         0         0\n",
              "514     9   71  141    7  ...         0         0         0         0\n",
              "515    92  168  122   80  ...         0         0         0         0\n",
              "516     7    2   48    4  ...         0         1         0         0\n",
              "\n",
              "[517 rows x 28 columns]"
            ]
          },
          "metadata": {},
          "execution_count": 14
        }
      ]
    },
    {
      "cell_type": "code",
      "metadata": {
        "id": "5NnYh91-zTzK",
        "colab": {
          "base_uri": "https://localhost:8080/"
        },
        "outputId": "a24b0ac0-db8c-41fb-cf41-6b59fa2406ff"
      },
      "source": [
        "Y"
      ],
      "execution_count": null,
      "outputs": [
        {
          "output_type": "execute_result",
          "data": {
            "text/plain": [
              "0      small\n",
              "1      small\n",
              "2      small\n",
              "3      small\n",
              "4      small\n",
              "       ...  \n",
              "512    large\n",
              "513    large\n",
              "514    large\n",
              "515    small\n",
              "516    small\n",
              "Name: size_category, Length: 517, dtype: object"
            ]
          },
          "metadata": {},
          "execution_count": 15
        }
      ]
    },
    {
      "cell_type": "code",
      "metadata": {
        "colab": {
          "base_uri": "https://localhost:8080/",
          "height": 423
        },
        "id": "iVHQwXQ4zDtm",
        "outputId": "94c46037-60e9-45cd-8cfb-0751f0ecad52"
      },
      "source": [
        "Y = pd.DataFrame(Y)\n",
        "label_encoder_y = LabelEncoder()\n",
        "Y = Y.apply(LabelEncoder().fit_transform)\n",
        "Y"
      ],
      "execution_count": null,
      "outputs": [
        {
          "output_type": "execute_result",
          "data": {
            "text/html": [
              "<div>\n",
              "<style scoped>\n",
              "    .dataframe tbody tr th:only-of-type {\n",
              "        vertical-align: middle;\n",
              "    }\n",
              "\n",
              "    .dataframe tbody tr th {\n",
              "        vertical-align: top;\n",
              "    }\n",
              "\n",
              "    .dataframe thead th {\n",
              "        text-align: right;\n",
              "    }\n",
              "</style>\n",
              "<table border=\"1\" class=\"dataframe\">\n",
              "  <thead>\n",
              "    <tr style=\"text-align: right;\">\n",
              "      <th></th>\n",
              "      <th>size_category</th>\n",
              "    </tr>\n",
              "  </thead>\n",
              "  <tbody>\n",
              "    <tr>\n",
              "      <th>0</th>\n",
              "      <td>1</td>\n",
              "    </tr>\n",
              "    <tr>\n",
              "      <th>1</th>\n",
              "      <td>1</td>\n",
              "    </tr>\n",
              "    <tr>\n",
              "      <th>2</th>\n",
              "      <td>1</td>\n",
              "    </tr>\n",
              "    <tr>\n",
              "      <th>3</th>\n",
              "      <td>1</td>\n",
              "    </tr>\n",
              "    <tr>\n",
              "      <th>4</th>\n",
              "      <td>1</td>\n",
              "    </tr>\n",
              "    <tr>\n",
              "      <th>...</th>\n",
              "      <td>...</td>\n",
              "    </tr>\n",
              "    <tr>\n",
              "      <th>512</th>\n",
              "      <td>0</td>\n",
              "    </tr>\n",
              "    <tr>\n",
              "      <th>513</th>\n",
              "      <td>0</td>\n",
              "    </tr>\n",
              "    <tr>\n",
              "      <th>514</th>\n",
              "      <td>0</td>\n",
              "    </tr>\n",
              "    <tr>\n",
              "      <th>515</th>\n",
              "      <td>1</td>\n",
              "    </tr>\n",
              "    <tr>\n",
              "      <th>516</th>\n",
              "      <td>1</td>\n",
              "    </tr>\n",
              "  </tbody>\n",
              "</table>\n",
              "<p>517 rows × 1 columns</p>\n",
              "</div>"
            ],
            "text/plain": [
              "     size_category\n",
              "0                1\n",
              "1                1\n",
              "2                1\n",
              "3                1\n",
              "4                1\n",
              "..             ...\n",
              "512              0\n",
              "513              0\n",
              "514              0\n",
              "515              1\n",
              "516              1\n",
              "\n",
              "[517 rows x 1 columns]"
            ]
          },
          "metadata": {},
          "execution_count": 16
        }
      ]
    },
    {
      "cell_type": "code",
      "source": [
        "X_norm = norm_func(X)"
      ],
      "metadata": {
        "id": "-MNS1cHrwZ6L"
      },
      "execution_count": null,
      "outputs": []
    },
    {
      "cell_type": "code",
      "metadata": {
        "id": "hp9Hi6x-YuAQ"
      },
      "source": [
        "# create model\n",
        "def create_model():\n",
        "    model = Sequential()\n",
        "    model.add(Dense(12, input_dim=28, kernel_initializer='uniform', activation='relu'))\n",
        "    model.add(Dense(10, kernel_initializer='uniform', activation='relu'))\n",
        "    model.add(Dense(1, kernel_initializer='uniform', activation='sigmoid'))\n",
        "\n",
        "    adam= Adam(lr=0.01)\n",
        "    model.compile(loss='binary_crossentropy', optimizer=adam, metrics=['accuracy'])\n",
        "    return model"
      ],
      "execution_count": null,
      "outputs": []
    },
    {
      "cell_type": "code",
      "metadata": {
        "colab": {
          "base_uri": "https://localhost:8080/"
        },
        "id": "H3qt2F2BpkxP",
        "outputId": "c71f6e3d-9ea3-4e43-d50c-eb59924cadbf"
      },
      "source": [
        "model = KerasClassifier(build_fn= create_model, verbose=0)\n",
        "batch_size = [10, 20, 40]\n",
        "epochs = [10, 50, 100]\n",
        "param_grid = dict(batch_size = batch_size, epochs = epochs)\n",
        "grid = GridSearchCV(estimator = model, param_grid= param_grid, cv = KFold(), verbose = 10)\n",
        "grid_result = grid.fit(X_standardized, Y)"
      ],
      "execution_count": null,
      "outputs": [
        {
          "output_type": "stream",
          "name": "stderr",
          "text": [
            "/usr/local/lib/python3.7/dist-packages/ipykernel_launcher.py:1: DeprecationWarning: KerasClassifier is deprecated, use Sci-Keras (https://github.com/adriangb/scikeras) instead.\n",
            "  \"\"\"Entry point for launching an IPython kernel.\n"
          ]
        },
        {
          "output_type": "stream",
          "name": "stdout",
          "text": [
            "Fitting 5 folds for each of 9 candidates, totalling 45 fits\n",
            "[CV 1/5; 1/9] START batch_size=10, epochs=10....................................\n"
          ]
        },
        {
          "output_type": "stream",
          "name": "stderr",
          "text": [
            "/usr/local/lib/python3.7/dist-packages/keras/optimizer_v2/adam.py:105: UserWarning: The `lr` argument is deprecated, use `learning_rate` instead.\n",
            "  super(Adam, self).__init__(name, **kwargs)\n"
          ]
        },
        {
          "output_type": "stream",
          "name": "stdout",
          "text": [
            "[CV 1/5; 1/9] END .....batch_size=10, epochs=10;, score=0.971 total time=   5.6s\n",
            "[CV 2/5; 1/9] START batch_size=10, epochs=10....................................\n"
          ]
        },
        {
          "output_type": "stream",
          "name": "stderr",
          "text": [
            "/usr/local/lib/python3.7/dist-packages/keras/optimizer_v2/adam.py:105: UserWarning: The `lr` argument is deprecated, use `learning_rate` instead.\n",
            "  super(Adam, self).__init__(name, **kwargs)\n"
          ]
        },
        {
          "output_type": "stream",
          "name": "stdout",
          "text": [
            "[CV 2/5; 1/9] END .....batch_size=10, epochs=10;, score=0.856 total time=   3.2s\n",
            "[CV 3/5; 1/9] START batch_size=10, epochs=10....................................\n"
          ]
        },
        {
          "output_type": "stream",
          "name": "stderr",
          "text": [
            "/usr/local/lib/python3.7/dist-packages/keras/optimizer_v2/adam.py:105: UserWarning: The `lr` argument is deprecated, use `learning_rate` instead.\n",
            "  super(Adam, self).__init__(name, **kwargs)\n"
          ]
        },
        {
          "output_type": "stream",
          "name": "stdout",
          "text": [
            "[CV 3/5; 1/9] END .....batch_size=10, epochs=10;, score=0.854 total time=   1.3s\n",
            "[CV 4/5; 1/9] START batch_size=10, epochs=10....................................\n"
          ]
        },
        {
          "output_type": "stream",
          "name": "stderr",
          "text": [
            "/usr/local/lib/python3.7/dist-packages/keras/optimizer_v2/adam.py:105: UserWarning: The `lr` argument is deprecated, use `learning_rate` instead.\n",
            "  super(Adam, self).__init__(name, **kwargs)\n"
          ]
        },
        {
          "output_type": "stream",
          "name": "stdout",
          "text": [
            "[CV 4/5; 1/9] END .....batch_size=10, epochs=10;, score=0.845 total time=   1.3s\n",
            "[CV 5/5; 1/9] START batch_size=10, epochs=10....................................\n"
          ]
        },
        {
          "output_type": "stream",
          "name": "stderr",
          "text": [
            "/usr/local/lib/python3.7/dist-packages/keras/optimizer_v2/adam.py:105: UserWarning: The `lr` argument is deprecated, use `learning_rate` instead.\n",
            "  super(Adam, self).__init__(name, **kwargs)\n"
          ]
        },
        {
          "output_type": "stream",
          "name": "stdout",
          "text": [
            "[CV 5/5; 1/9] END .....batch_size=10, epochs=10;, score=0.874 total time=   1.4s\n",
            "[CV 1/5; 2/9] START batch_size=10, epochs=50....................................\n"
          ]
        },
        {
          "output_type": "stream",
          "name": "stderr",
          "text": [
            "/usr/local/lib/python3.7/dist-packages/keras/optimizer_v2/adam.py:105: UserWarning: The `lr` argument is deprecated, use `learning_rate` instead.\n",
            "  super(Adam, self).__init__(name, **kwargs)\n"
          ]
        },
        {
          "output_type": "stream",
          "name": "stdout",
          "text": [
            "[CV 1/5; 2/9] END .....batch_size=10, epochs=50;, score=1.000 total time=   3.1s\n",
            "[CV 2/5; 2/9] START batch_size=10, epochs=50....................................\n"
          ]
        },
        {
          "output_type": "stream",
          "name": "stderr",
          "text": [
            "/usr/local/lib/python3.7/dist-packages/keras/optimizer_v2/adam.py:105: UserWarning: The `lr` argument is deprecated, use `learning_rate` instead.\n",
            "  super(Adam, self).__init__(name, **kwargs)\n"
          ]
        },
        {
          "output_type": "stream",
          "name": "stdout",
          "text": [
            "[CV 2/5; 2/9] END .....batch_size=10, epochs=50;, score=0.875 total time=   3.2s\n",
            "[CV 3/5; 2/9] START batch_size=10, epochs=50....................................\n"
          ]
        },
        {
          "output_type": "stream",
          "name": "stderr",
          "text": [
            "/usr/local/lib/python3.7/dist-packages/keras/optimizer_v2/adam.py:105: UserWarning: The `lr` argument is deprecated, use `learning_rate` instead.\n",
            "  super(Adam, self).__init__(name, **kwargs)\n"
          ]
        },
        {
          "output_type": "stream",
          "name": "stdout",
          "text": [
            "[CV 3/5; 2/9] END .....batch_size=10, epochs=50;, score=0.825 total time=   3.3s\n",
            "[CV 4/5; 2/9] START batch_size=10, epochs=50....................................\n"
          ]
        },
        {
          "output_type": "stream",
          "name": "stderr",
          "text": [
            "/usr/local/lib/python3.7/dist-packages/keras/optimizer_v2/adam.py:105: UserWarning: The `lr` argument is deprecated, use `learning_rate` instead.\n",
            "  super(Adam, self).__init__(name, **kwargs)\n"
          ]
        },
        {
          "output_type": "stream",
          "name": "stdout",
          "text": [
            "[CV 4/5; 2/9] END .....batch_size=10, epochs=50;, score=0.922 total time=   3.2s\n",
            "[CV 5/5; 2/9] START batch_size=10, epochs=50....................................\n"
          ]
        },
        {
          "output_type": "stream",
          "name": "stderr",
          "text": [
            "/usr/local/lib/python3.7/dist-packages/keras/optimizer_v2/adam.py:105: UserWarning: The `lr` argument is deprecated, use `learning_rate` instead.\n",
            "  super(Adam, self).__init__(name, **kwargs)\n"
          ]
        },
        {
          "output_type": "stream",
          "name": "stdout",
          "text": [
            "[CV 5/5; 2/9] END .....batch_size=10, epochs=50;, score=0.922 total time=   3.2s\n",
            "[CV 1/5; 3/9] START batch_size=10, epochs=100...................................\n"
          ]
        },
        {
          "output_type": "stream",
          "name": "stderr",
          "text": [
            "/usr/local/lib/python3.7/dist-packages/keras/optimizer_v2/adam.py:105: UserWarning: The `lr` argument is deprecated, use `learning_rate` instead.\n",
            "  super(Adam, self).__init__(name, **kwargs)\n"
          ]
        },
        {
          "output_type": "stream",
          "name": "stdout",
          "text": [
            "[CV 1/5; 3/9] END ....batch_size=10, epochs=100;, score=1.000 total time=   5.3s\n",
            "[CV 2/5; 3/9] START batch_size=10, epochs=100...................................\n"
          ]
        },
        {
          "output_type": "stream",
          "name": "stderr",
          "text": [
            "/usr/local/lib/python3.7/dist-packages/keras/optimizer_v2/adam.py:105: UserWarning: The `lr` argument is deprecated, use `learning_rate` instead.\n",
            "  super(Adam, self).__init__(name, **kwargs)\n"
          ]
        },
        {
          "output_type": "stream",
          "name": "stdout",
          "text": [
            "[CV 2/5; 3/9] END ....batch_size=10, epochs=100;, score=0.856 total time=   5.4s\n",
            "[CV 3/5; 3/9] START batch_size=10, epochs=100...................................\n"
          ]
        },
        {
          "output_type": "stream",
          "name": "stderr",
          "text": [
            "/usr/local/lib/python3.7/dist-packages/keras/optimizer_v2/adam.py:105: UserWarning: The `lr` argument is deprecated, use `learning_rate` instead.\n",
            "  super(Adam, self).__init__(name, **kwargs)\n"
          ]
        },
        {
          "output_type": "stream",
          "name": "stdout",
          "text": [
            "[CV 3/5; 3/9] END ....batch_size=10, epochs=100;, score=0.893 total time=   5.4s\n",
            "[CV 4/5; 3/9] START batch_size=10, epochs=100...................................\n"
          ]
        },
        {
          "output_type": "stream",
          "name": "stderr",
          "text": [
            "/usr/local/lib/python3.7/dist-packages/keras/optimizer_v2/adam.py:105: UserWarning: The `lr` argument is deprecated, use `learning_rate` instead.\n",
            "  super(Adam, self).__init__(name, **kwargs)\n"
          ]
        },
        {
          "output_type": "stream",
          "name": "stdout",
          "text": [
            "[CV 4/5; 3/9] END ....batch_size=10, epochs=100;, score=0.913 total time=   5.8s\n",
            "[CV 5/5; 3/9] START batch_size=10, epochs=100...................................\n"
          ]
        },
        {
          "output_type": "stream",
          "name": "stderr",
          "text": [
            "/usr/local/lib/python3.7/dist-packages/keras/optimizer_v2/adam.py:105: UserWarning: The `lr` argument is deprecated, use `learning_rate` instead.\n",
            "  super(Adam, self).__init__(name, **kwargs)\n"
          ]
        },
        {
          "output_type": "stream",
          "name": "stdout",
          "text": [
            "[CV 5/5; 3/9] END ....batch_size=10, epochs=100;, score=0.913 total time=   5.7s\n",
            "[CV 1/5; 4/9] START batch_size=20, epochs=10....................................\n"
          ]
        },
        {
          "output_type": "stream",
          "name": "stderr",
          "text": [
            "/usr/local/lib/python3.7/dist-packages/keras/optimizer_v2/adam.py:105: UserWarning: The `lr` argument is deprecated, use `learning_rate` instead.\n",
            "  super(Adam, self).__init__(name, **kwargs)\n"
          ]
        },
        {
          "output_type": "stream",
          "name": "stdout",
          "text": [
            "[CV 1/5; 4/9] END .....batch_size=20, epochs=10;, score=1.000 total time=   0.9s\n",
            "[CV 2/5; 4/9] START batch_size=20, epochs=10....................................\n"
          ]
        },
        {
          "output_type": "stream",
          "name": "stderr",
          "text": [
            "/usr/local/lib/python3.7/dist-packages/keras/optimizer_v2/adam.py:105: UserWarning: The `lr` argument is deprecated, use `learning_rate` instead.\n",
            "  super(Adam, self).__init__(name, **kwargs)\n"
          ]
        },
        {
          "output_type": "stream",
          "name": "stdout",
          "text": [
            "[CV 2/5; 4/9] END .....batch_size=20, epochs=10;, score=0.808 total time=   1.0s\n",
            "[CV 3/5; 4/9] START batch_size=20, epochs=10....................................\n"
          ]
        },
        {
          "output_type": "stream",
          "name": "stderr",
          "text": [
            "/usr/local/lib/python3.7/dist-packages/keras/optimizer_v2/adam.py:105: UserWarning: The `lr` argument is deprecated, use `learning_rate` instead.\n",
            "  super(Adam, self).__init__(name, **kwargs)\n"
          ]
        },
        {
          "output_type": "stream",
          "name": "stdout",
          "text": [
            "[CV 3/5; 4/9] END .....batch_size=20, epochs=10;, score=0.738 total time=   1.0s\n",
            "[CV 4/5; 4/9] START batch_size=20, epochs=10....................................\n"
          ]
        },
        {
          "output_type": "stream",
          "name": "stderr",
          "text": [
            "/usr/local/lib/python3.7/dist-packages/keras/optimizer_v2/adam.py:105: UserWarning: The `lr` argument is deprecated, use `learning_rate` instead.\n",
            "  super(Adam, self).__init__(name, **kwargs)\n"
          ]
        },
        {
          "output_type": "stream",
          "name": "stdout",
          "text": [
            "[CV 4/5; 4/9] END .....batch_size=20, epochs=10;, score=0.825 total time=   1.0s\n",
            "[CV 5/5; 4/9] START batch_size=20, epochs=10....................................\n"
          ]
        },
        {
          "output_type": "stream",
          "name": "stderr",
          "text": [
            "/usr/local/lib/python3.7/dist-packages/keras/optimizer_v2/adam.py:105: UserWarning: The `lr` argument is deprecated, use `learning_rate` instead.\n",
            "  super(Adam, self).__init__(name, **kwargs)\n"
          ]
        },
        {
          "output_type": "stream",
          "name": "stdout",
          "text": [
            "[CV 5/5; 4/9] END .....batch_size=20, epochs=10;, score=0.864 total time=   1.0s\n",
            "[CV 1/5; 5/9] START batch_size=20, epochs=50....................................\n"
          ]
        },
        {
          "output_type": "stream",
          "name": "stderr",
          "text": [
            "/usr/local/lib/python3.7/dist-packages/keras/optimizer_v2/adam.py:105: UserWarning: The `lr` argument is deprecated, use `learning_rate` instead.\n",
            "  super(Adam, self).__init__(name, **kwargs)\n"
          ]
        },
        {
          "output_type": "stream",
          "name": "stdout",
          "text": [
            "[CV 1/5; 5/9] END .....batch_size=20, epochs=50;, score=1.000 total time=   2.6s\n",
            "[CV 2/5; 5/9] START batch_size=20, epochs=50....................................\n"
          ]
        },
        {
          "output_type": "stream",
          "name": "stderr",
          "text": [
            "/usr/local/lib/python3.7/dist-packages/keras/optimizer_v2/adam.py:105: UserWarning: The `lr` argument is deprecated, use `learning_rate` instead.\n",
            "  super(Adam, self).__init__(name, **kwargs)\n"
          ]
        },
        {
          "output_type": "stream",
          "name": "stdout",
          "text": [
            "[CV 2/5; 5/9] END .....batch_size=20, epochs=50;, score=0.837 total time=   1.9s\n",
            "[CV 3/5; 5/9] START batch_size=20, epochs=50....................................\n"
          ]
        },
        {
          "output_type": "stream",
          "name": "stderr",
          "text": [
            "/usr/local/lib/python3.7/dist-packages/keras/optimizer_v2/adam.py:105: UserWarning: The `lr` argument is deprecated, use `learning_rate` instead.\n",
            "  super(Adam, self).__init__(name, **kwargs)\n"
          ]
        },
        {
          "output_type": "stream",
          "name": "stdout",
          "text": [
            "[CV 3/5; 5/9] END .....batch_size=20, epochs=50;, score=0.893 total time=   1.9s\n",
            "[CV 4/5; 5/9] START batch_size=20, epochs=50....................................\n"
          ]
        },
        {
          "output_type": "stream",
          "name": "stderr",
          "text": [
            "/usr/local/lib/python3.7/dist-packages/keras/optimizer_v2/adam.py:105: UserWarning: The `lr` argument is deprecated, use `learning_rate` instead.\n",
            "  super(Adam, self).__init__(name, **kwargs)\n"
          ]
        },
        {
          "output_type": "stream",
          "name": "stdout",
          "text": [
            "[CV 4/5; 5/9] END .....batch_size=20, epochs=50;, score=0.903 total time=   1.9s\n",
            "[CV 5/5; 5/9] START batch_size=20, epochs=50....................................\n"
          ]
        },
        {
          "output_type": "stream",
          "name": "stderr",
          "text": [
            "/usr/local/lib/python3.7/dist-packages/keras/optimizer_v2/adam.py:105: UserWarning: The `lr` argument is deprecated, use `learning_rate` instead.\n",
            "  super(Adam, self).__init__(name, **kwargs)\n"
          ]
        },
        {
          "output_type": "stream",
          "name": "stdout",
          "text": [
            "[CV 5/5; 5/9] END .....batch_size=20, epochs=50;, score=0.893 total time=   2.3s\n",
            "[CV 1/5; 6/9] START batch_size=20, epochs=100...................................\n"
          ]
        },
        {
          "output_type": "stream",
          "name": "stderr",
          "text": [
            "/usr/local/lib/python3.7/dist-packages/keras/optimizer_v2/adam.py:105: UserWarning: The `lr` argument is deprecated, use `learning_rate` instead.\n",
            "  super(Adam, self).__init__(name, **kwargs)\n"
          ]
        },
        {
          "output_type": "stream",
          "name": "stdout",
          "text": [
            "[CV 1/5; 6/9] END ....batch_size=20, epochs=100;, score=1.000 total time=   3.1s\n",
            "[CV 2/5; 6/9] START batch_size=20, epochs=100...................................\n"
          ]
        },
        {
          "output_type": "stream",
          "name": "stderr",
          "text": [
            "/usr/local/lib/python3.7/dist-packages/keras/optimizer_v2/adam.py:105: UserWarning: The `lr` argument is deprecated, use `learning_rate` instead.\n",
            "  super(Adam, self).__init__(name, **kwargs)\n"
          ]
        },
        {
          "output_type": "stream",
          "name": "stdout",
          "text": [
            "[CV 2/5; 6/9] END ....batch_size=20, epochs=100;, score=0.865 total time=   3.1s\n",
            "[CV 3/5; 6/9] START batch_size=20, epochs=100...................................\n"
          ]
        },
        {
          "output_type": "stream",
          "name": "stderr",
          "text": [
            "/usr/local/lib/python3.7/dist-packages/keras/optimizer_v2/adam.py:105: UserWarning: The `lr` argument is deprecated, use `learning_rate` instead.\n",
            "  super(Adam, self).__init__(name, **kwargs)\n"
          ]
        },
        {
          "output_type": "stream",
          "name": "stdout",
          "text": [
            "[CV 3/5; 6/9] END ....batch_size=20, epochs=100;, score=0.903 total time=   3.2s\n",
            "[CV 4/5; 6/9] START batch_size=20, epochs=100...................................\n"
          ]
        },
        {
          "output_type": "stream",
          "name": "stderr",
          "text": [
            "/usr/local/lib/python3.7/dist-packages/keras/optimizer_v2/adam.py:105: UserWarning: The `lr` argument is deprecated, use `learning_rate` instead.\n",
            "  super(Adam, self).__init__(name, **kwargs)\n"
          ]
        },
        {
          "output_type": "stream",
          "name": "stdout",
          "text": [
            "[CV 4/5; 6/9] END ....batch_size=20, epochs=100;, score=0.903 total time=   3.3s\n",
            "[CV 5/5; 6/9] START batch_size=20, epochs=100...................................\n"
          ]
        },
        {
          "output_type": "stream",
          "name": "stderr",
          "text": [
            "/usr/local/lib/python3.7/dist-packages/keras/optimizer_v2/adam.py:105: UserWarning: The `lr` argument is deprecated, use `learning_rate` instead.\n",
            "  super(Adam, self).__init__(name, **kwargs)\n"
          ]
        },
        {
          "output_type": "stream",
          "name": "stdout",
          "text": [
            "[CV 5/5; 6/9] END ....batch_size=20, epochs=100;, score=0.893 total time=   3.1s\n",
            "[CV 1/5; 7/9] START batch_size=40, epochs=10....................................\n"
          ]
        },
        {
          "output_type": "stream",
          "name": "stderr",
          "text": [
            "/usr/local/lib/python3.7/dist-packages/keras/optimizer_v2/adam.py:105: UserWarning: The `lr` argument is deprecated, use `learning_rate` instead.\n",
            "  super(Adam, self).__init__(name, **kwargs)\n"
          ]
        },
        {
          "output_type": "stream",
          "name": "stdout",
          "text": [
            "[CV 1/5; 7/9] END .....batch_size=40, epochs=10;, score=1.000 total time=   0.8s\n",
            "[CV 2/5; 7/9] START batch_size=40, epochs=10....................................\n"
          ]
        },
        {
          "output_type": "stream",
          "name": "stderr",
          "text": [
            "/usr/local/lib/python3.7/dist-packages/keras/optimizer_v2/adam.py:105: UserWarning: The `lr` argument is deprecated, use `learning_rate` instead.\n",
            "  super(Adam, self).__init__(name, **kwargs)\n"
          ]
        },
        {
          "output_type": "stream",
          "name": "stdout",
          "text": [
            "[CV 2/5; 7/9] END .....batch_size=40, epochs=10;, score=0.750 total time=   0.8s\n",
            "[CV 3/5; 7/9] START batch_size=40, epochs=10....................................\n"
          ]
        },
        {
          "output_type": "stream",
          "name": "stderr",
          "text": [
            "/usr/local/lib/python3.7/dist-packages/keras/optimizer_v2/adam.py:105: UserWarning: The `lr` argument is deprecated, use `learning_rate` instead.\n",
            "  super(Adam, self).__init__(name, **kwargs)\n"
          ]
        },
        {
          "output_type": "stream",
          "name": "stdout",
          "text": [
            "[CV 3/5; 7/9] END .....batch_size=40, epochs=10;, score=0.699 total time=   0.8s\n",
            "[CV 4/5; 7/9] START batch_size=40, epochs=10....................................\n"
          ]
        },
        {
          "output_type": "stream",
          "name": "stderr",
          "text": [
            "/usr/local/lib/python3.7/dist-packages/keras/optimizer_v2/adam.py:105: UserWarning: The `lr` argument is deprecated, use `learning_rate` instead.\n",
            "  super(Adam, self).__init__(name, **kwargs)\n"
          ]
        },
        {
          "output_type": "stream",
          "name": "stdout",
          "text": [
            "WARNING:tensorflow:5 out of the last 16 calls to <function Model.make_test_function.<locals>.test_function at 0x7f9663e22c20> triggered tf.function retracing. Tracing is expensive and the excessive number of tracings could be due to (1) creating @tf.function repeatedly in a loop, (2) passing tensors with different shapes, (3) passing Python objects instead of tensors. For (1), please define your @tf.function outside of the loop. For (2), @tf.function has experimental_relax_shapes=True option that relaxes argument shapes that can avoid unnecessary retracing. For (3), please refer to https://www.tensorflow.org/guide/function#controlling_retracing and https://www.tensorflow.org/api_docs/python/tf/function for  more details.\n",
            "[CV 4/5; 7/9] END .....batch_size=40, epochs=10;, score=0.718 total time=   0.8s\n",
            "[CV 5/5; 7/9] START batch_size=40, epochs=10....................................\n"
          ]
        },
        {
          "output_type": "stream",
          "name": "stderr",
          "text": [
            "/usr/local/lib/python3.7/dist-packages/keras/optimizer_v2/adam.py:105: UserWarning: The `lr` argument is deprecated, use `learning_rate` instead.\n",
            "  super(Adam, self).__init__(name, **kwargs)\n"
          ]
        },
        {
          "output_type": "stream",
          "name": "stdout",
          "text": [
            "WARNING:tensorflow:5 out of the last 13 calls to <function Model.make_test_function.<locals>.test_function at 0x7f9664898200> triggered tf.function retracing. Tracing is expensive and the excessive number of tracings could be due to (1) creating @tf.function repeatedly in a loop, (2) passing tensors with different shapes, (3) passing Python objects instead of tensors. For (1), please define your @tf.function outside of the loop. For (2), @tf.function has experimental_relax_shapes=True option that relaxes argument shapes that can avoid unnecessary retracing. For (3), please refer to https://www.tensorflow.org/guide/function#controlling_retracing and https://www.tensorflow.org/api_docs/python/tf/function for  more details.\n",
            "[CV 5/5; 7/9] END .....batch_size=40, epochs=10;, score=0.835 total time=   1.2s\n",
            "[CV 1/5; 8/9] START batch_size=40, epochs=50....................................\n"
          ]
        },
        {
          "output_type": "stream",
          "name": "stderr",
          "text": [
            "/usr/local/lib/python3.7/dist-packages/keras/optimizer_v2/adam.py:105: UserWarning: The `lr` argument is deprecated, use `learning_rate` instead.\n",
            "  super(Adam, self).__init__(name, **kwargs)\n"
          ]
        },
        {
          "output_type": "stream",
          "name": "stdout",
          "text": [
            "[CV 1/5; 8/9] END .....batch_size=40, epochs=50;, score=0.990 total time=   2.0s\n",
            "[CV 2/5; 8/9] START batch_size=40, epochs=50....................................\n"
          ]
        },
        {
          "output_type": "stream",
          "name": "stderr",
          "text": [
            "/usr/local/lib/python3.7/dist-packages/keras/optimizer_v2/adam.py:105: UserWarning: The `lr` argument is deprecated, use `learning_rate` instead.\n",
            "  super(Adam, self).__init__(name, **kwargs)\n"
          ]
        },
        {
          "output_type": "stream",
          "name": "stdout",
          "text": [
            "[CV 2/5; 8/9] END .....batch_size=40, epochs=50;, score=0.875 total time=   1.9s\n",
            "[CV 3/5; 8/9] START batch_size=40, epochs=50....................................\n"
          ]
        },
        {
          "output_type": "stream",
          "name": "stderr",
          "text": [
            "/usr/local/lib/python3.7/dist-packages/keras/optimizer_v2/adam.py:105: UserWarning: The `lr` argument is deprecated, use `learning_rate` instead.\n",
            "  super(Adam, self).__init__(name, **kwargs)\n"
          ]
        },
        {
          "output_type": "stream",
          "name": "stdout",
          "text": [
            "[CV 3/5; 8/9] END .....batch_size=40, epochs=50;, score=0.883 total time=   1.4s\n",
            "[CV 4/5; 8/9] START batch_size=40, epochs=50....................................\n"
          ]
        },
        {
          "output_type": "stream",
          "name": "stderr",
          "text": [
            "/usr/local/lib/python3.7/dist-packages/keras/optimizer_v2/adam.py:105: UserWarning: The `lr` argument is deprecated, use `learning_rate` instead.\n",
            "  super(Adam, self).__init__(name, **kwargs)\n"
          ]
        },
        {
          "output_type": "stream",
          "name": "stdout",
          "text": [
            "[CV 4/5; 8/9] END .....batch_size=40, epochs=50;, score=0.903 total time=   1.9s\n",
            "[CV 5/5; 8/9] START batch_size=40, epochs=50....................................\n"
          ]
        },
        {
          "output_type": "stream",
          "name": "stderr",
          "text": [
            "/usr/local/lib/python3.7/dist-packages/keras/optimizer_v2/adam.py:105: UserWarning: The `lr` argument is deprecated, use `learning_rate` instead.\n",
            "  super(Adam, self).__init__(name, **kwargs)\n"
          ]
        },
        {
          "output_type": "stream",
          "name": "stdout",
          "text": [
            "[CV 5/5; 8/9] END .....batch_size=40, epochs=50;, score=0.893 total time=   1.4s\n",
            "[CV 1/5; 9/9] START batch_size=40, epochs=100...................................\n"
          ]
        },
        {
          "output_type": "stream",
          "name": "stderr",
          "text": [
            "/usr/local/lib/python3.7/dist-packages/keras/optimizer_v2/adam.py:105: UserWarning: The `lr` argument is deprecated, use `learning_rate` instead.\n",
            "  super(Adam, self).__init__(name, **kwargs)\n"
          ]
        },
        {
          "output_type": "stream",
          "name": "stdout",
          "text": [
            "[CV 1/5; 9/9] END ....batch_size=40, epochs=100;, score=1.000 total time=   2.1s\n",
            "[CV 2/5; 9/9] START batch_size=40, epochs=100...................................\n"
          ]
        },
        {
          "output_type": "stream",
          "name": "stderr",
          "text": [
            "/usr/local/lib/python3.7/dist-packages/keras/optimizer_v2/adam.py:105: UserWarning: The `lr` argument is deprecated, use `learning_rate` instead.\n",
            "  super(Adam, self).__init__(name, **kwargs)\n"
          ]
        },
        {
          "output_type": "stream",
          "name": "stdout",
          "text": [
            "[CV 2/5; 9/9] END ....batch_size=40, epochs=100;, score=0.856 total time=   2.0s\n",
            "[CV 3/5; 9/9] START batch_size=40, epochs=100...................................\n"
          ]
        },
        {
          "output_type": "stream",
          "name": "stderr",
          "text": [
            "/usr/local/lib/python3.7/dist-packages/keras/optimizer_v2/adam.py:105: UserWarning: The `lr` argument is deprecated, use `learning_rate` instead.\n",
            "  super(Adam, self).__init__(name, **kwargs)\n"
          ]
        },
        {
          "output_type": "stream",
          "name": "stdout",
          "text": [
            "[CV 3/5; 9/9] END ....batch_size=40, epochs=100;, score=0.883 total time=   2.0s\n",
            "[CV 4/5; 9/9] START batch_size=40, epochs=100...................................\n"
          ]
        },
        {
          "output_type": "stream",
          "name": "stderr",
          "text": [
            "/usr/local/lib/python3.7/dist-packages/keras/optimizer_v2/adam.py:105: UserWarning: The `lr` argument is deprecated, use `learning_rate` instead.\n",
            "  super(Adam, self).__init__(name, **kwargs)\n"
          ]
        },
        {
          "output_type": "stream",
          "name": "stdout",
          "text": [
            "[CV 4/5; 9/9] END ....batch_size=40, epochs=100;, score=0.903 total time=   3.2s\n",
            "[CV 5/5; 9/9] START batch_size=40, epochs=100...................................\n"
          ]
        },
        {
          "output_type": "stream",
          "name": "stderr",
          "text": [
            "/usr/local/lib/python3.7/dist-packages/keras/optimizer_v2/adam.py:105: UserWarning: The `lr` argument is deprecated, use `learning_rate` instead.\n",
            "  super(Adam, self).__init__(name, **kwargs)\n"
          ]
        },
        {
          "output_type": "stream",
          "name": "stdout",
          "text": [
            "[CV 5/5; 9/9] END ....batch_size=40, epochs=100;, score=0.883 total time=   2.0s\n"
          ]
        }
      ]
    },
    {
      "cell_type": "code",
      "metadata": {
        "colab": {
          "base_uri": "https://localhost:8080/"
        },
        "id": "PrMVpe1Avp_A",
        "outputId": "fef64ae6-91ac-4891-ccb1-f0032d04c2fc"
      },
      "source": [
        "print('Best: {}, Using {}'.format(grid_result.best_score_, grid_result.best_params_))\n",
        "means=grid_result.cv_results_['mean_test_score']\n",
        "stds=grid_result.cv_results_['std_test_score']\n",
        "params=grid_result.cv_results_['params']\n",
        "for mean, stdev, param in zip(means, stds, params):\n",
        "  print ('{},{} with {}'.format(mean, stdev, params))"
      ],
      "execution_count": null,
      "outputs": [
        {
          "output_type": "stream",
          "name": "stdout",
          "text": [
            "Best: 0.9148431658744812, Using {'batch_size': 10, 'epochs': 100}\n",
            "0.8799477219581604,0.046563082679960455 with [{'batch_size': 10, 'epochs': 10}, {'batch_size': 10, 'epochs': 50}, {'batch_size': 10, 'epochs': 100}, {'batch_size': 20, 'epochs': 10}, {'batch_size': 20, 'epochs': 50}, {'batch_size': 20, 'epochs': 100}, {'batch_size': 40, 'epochs': 10}, {'batch_size': 40, 'epochs': 50}, {'batch_size': 40, 'epochs': 100}]\n",
            "0.9089805722236634,0.057978730345665544 with [{'batch_size': 10, 'epochs': 10}, {'batch_size': 10, 'epochs': 50}, {'batch_size': 10, 'epochs': 100}, {'batch_size': 20, 'epochs': 10}, {'batch_size': 20, 'epochs': 50}, {'batch_size': 20, 'epochs': 100}, {'batch_size': 40, 'epochs': 10}, {'batch_size': 40, 'epochs': 50}, {'batch_size': 40, 'epochs': 100}]\n",
            "0.9148431658744812,0.04736992780462155 with [{'batch_size': 10, 'epochs': 10}, {'batch_size': 10, 'epochs': 50}, {'batch_size': 10, 'epochs': 100}, {'batch_size': 20, 'epochs': 10}, {'batch_size': 20, 'epochs': 50}, {'batch_size': 20, 'epochs': 100}, {'batch_size': 40, 'epochs': 10}, {'batch_size': 40, 'epochs': 50}, {'batch_size': 40, 'epochs': 100}]\n",
            "0.8469753503799439,0.086752256837151 with [{'batch_size': 10, 'epochs': 10}, {'batch_size': 10, 'epochs': 50}, {'batch_size': 10, 'epochs': 100}, {'batch_size': 20, 'epochs': 10}, {'batch_size': 20, 'epochs': 50}, {'batch_size': 20, 'epochs': 100}, {'batch_size': 40, 'epochs': 10}, {'batch_size': 40, 'epochs': 50}, {'batch_size': 40, 'epochs': 100}]\n",
            "0.9051717519760132,0.052904619429510275 with [{'batch_size': 10, 'epochs': 10}, {'batch_size': 10, 'epochs': 50}, {'batch_size': 10, 'epochs': 100}, {'batch_size': 20, 'epochs': 10}, {'batch_size': 20, 'epochs': 50}, {'batch_size': 20, 'epochs': 100}, {'batch_size': 40, 'epochs': 10}, {'batch_size': 40, 'epochs': 50}, {'batch_size': 40, 'epochs': 100}]\n",
            "0.9128827452659607,0.04567614673390516 with [{'batch_size': 10, 'epochs': 10}, {'batch_size': 10, 'epochs': 50}, {'batch_size': 10, 'epochs': 100}, {'batch_size': 20, 'epochs': 10}, {'batch_size': 20, 'epochs': 50}, {'batch_size': 20, 'epochs': 100}, {'batch_size': 40, 'epochs': 10}, {'batch_size': 40, 'epochs': 50}, {'batch_size': 40, 'epochs': 100}]\n",
            "0.8004854440689086,0.11006043282387298 with [{'batch_size': 10, 'epochs': 10}, {'batch_size': 10, 'epochs': 50}, {'batch_size': 10, 'epochs': 100}, {'batch_size': 20, 'epochs': 10}, {'batch_size': 20, 'epochs': 50}, {'batch_size': 20, 'epochs': 100}, {'batch_size': 40, 'epochs': 10}, {'batch_size': 40, 'epochs': 50}, {'batch_size': 40, 'epochs': 100}]\n",
            "0.908999252319336,0.041752918622437026 with [{'batch_size': 10, 'epochs': 10}, {'batch_size': 10, 'epochs': 50}, {'batch_size': 10, 'epochs': 100}, {'batch_size': 20, 'epochs': 10}, {'batch_size': 20, 'epochs': 50}, {'batch_size': 20, 'epochs': 100}, {'batch_size': 40, 'epochs': 10}, {'batch_size': 40, 'epochs': 50}, {'batch_size': 40, 'epochs': 100}]\n",
            "0.9051344275474549,0.049755107845870124 with [{'batch_size': 10, 'epochs': 10}, {'batch_size': 10, 'epochs': 50}, {'batch_size': 10, 'epochs': 100}, {'batch_size': 20, 'epochs': 10}, {'batch_size': 20, 'epochs': 50}, {'batch_size': 20, 'epochs': 100}, {'batch_size': 40, 'epochs': 10}, {'batch_size': 40, 'epochs': 50}, {'batch_size': 40, 'epochs': 100}]\n"
          ]
        }
      ]
    },
    {
      "cell_type": "code",
      "source": [
        "from sklearn.model_selection import train_test_split\n",
        "x_train,x_test,y_train,y_test= train_test_split(X_norm,Y, test_size=0.2)"
      ],
      "metadata": {
        "id": "MPoIikTGu3BS"
      },
      "execution_count": null,
      "outputs": []
    },
    {
      "cell_type": "code",
      "source": [
        "final_model=create_model()"
      ],
      "metadata": {
        "colab": {
          "base_uri": "https://localhost:8080/"
        },
        "id": "8KyTh2U0wvYM",
        "outputId": "5bb07fef-6d6f-42e4-a171-a3970f2881ba"
      },
      "execution_count": null,
      "outputs": [
        {
          "output_type": "stream",
          "name": "stderr",
          "text": [
            "/usr/local/lib/python3.7/dist-packages/keras/optimizer_v2/adam.py:105: UserWarning: The `lr` argument is deprecated, use `learning_rate` instead.\n",
            "  super(Adam, self).__init__(name, **kwargs)\n"
          ]
        }
      ]
    },
    {
      "cell_type": "code",
      "metadata": {
        "id": "844834GCfZc8",
        "colab": {
          "base_uri": "https://localhost:8080/"
        },
        "outputId": "3eb11ddf-6598-4d22-ace8-60d49a15e22e"
      },
      "source": [
        "# Fit the model\n",
        "final_model.fit(x_train, y_train, epochs=100, batch_size=10)"
      ],
      "execution_count": null,
      "outputs": [
        {
          "output_type": "stream",
          "name": "stdout",
          "text": [
            "Epoch 1/100\n",
            "28/28 [==============================] - 0s 8ms/step - loss: 0.0181 - accuracy: 0.9928 - val_loss: 0.0942 - val_accuracy: 0.9562\n",
            "Epoch 2/100\n",
            "28/28 [==============================] - 0s 6ms/step - loss: 0.0384 - accuracy: 0.9855 - val_loss: 0.1126 - val_accuracy: 0.9635\n",
            "Epoch 3/100\n",
            "28/28 [==============================] - 0s 5ms/step - loss: 0.0255 - accuracy: 0.9928 - val_loss: 0.3122 - val_accuracy: 0.9270\n",
            "Epoch 4/100\n",
            "28/28 [==============================] - 0s 4ms/step - loss: 0.0621 - accuracy: 0.9746 - val_loss: 0.3550 - val_accuracy: 0.9197\n",
            "Epoch 5/100\n",
            "28/28 [==============================] - 0s 3ms/step - loss: 0.0153 - accuracy: 0.9928 - val_loss: 0.1230 - val_accuracy: 0.9489\n",
            "Epoch 6/100\n",
            "28/28 [==============================] - 0s 3ms/step - loss: 0.0533 - accuracy: 0.9746 - val_loss: 0.0918 - val_accuracy: 0.9635\n",
            "Epoch 7/100\n",
            "28/28 [==============================] - 0s 3ms/step - loss: 0.0518 - accuracy: 0.9783 - val_loss: 0.2504 - val_accuracy: 0.9416\n",
            "Epoch 8/100\n",
            "28/28 [==============================] - 0s 3ms/step - loss: 0.0682 - accuracy: 0.9783 - val_loss: 0.1842 - val_accuracy: 0.9343\n",
            "Epoch 9/100\n",
            "28/28 [==============================] - 0s 3ms/step - loss: 0.0242 - accuracy: 0.9928 - val_loss: 0.1502 - val_accuracy: 0.9416\n",
            "Epoch 10/100\n",
            "28/28 [==============================] - 0s 3ms/step - loss: 0.0153 - accuracy: 0.9928 - val_loss: 0.1447 - val_accuracy: 0.9416\n",
            "Epoch 11/100\n",
            "28/28 [==============================] - 0s 3ms/step - loss: 0.0135 - accuracy: 0.9964 - val_loss: 0.1555 - val_accuracy: 0.9343\n",
            "Epoch 12/100\n",
            "28/28 [==============================] - 0s 3ms/step - loss: 0.0080 - accuracy: 1.0000 - val_loss: 0.1488 - val_accuracy: 0.9562\n",
            "Epoch 13/100\n",
            "28/28 [==============================] - 0s 3ms/step - loss: 0.0044 - accuracy: 1.0000 - val_loss: 0.1357 - val_accuracy: 0.9416\n",
            "Epoch 14/100\n",
            "28/28 [==============================] - 0s 3ms/step - loss: 0.0034 - accuracy: 1.0000 - val_loss: 0.1374 - val_accuracy: 0.9416\n",
            "Epoch 15/100\n",
            "28/28 [==============================] - 0s 3ms/step - loss: 0.0037 - accuracy: 1.0000 - val_loss: 0.1429 - val_accuracy: 0.9416\n",
            "Epoch 16/100\n",
            "28/28 [==============================] - 0s 3ms/step - loss: 0.0053 - accuracy: 0.9964 - val_loss: 0.1348 - val_accuracy: 0.9416\n",
            "Epoch 17/100\n",
            "28/28 [==============================] - 0s 4ms/step - loss: 0.0026 - accuracy: 1.0000 - val_loss: 0.1317 - val_accuracy: 0.9416\n",
            "Epoch 18/100\n",
            "28/28 [==============================] - 0s 3ms/step - loss: 0.0016 - accuracy: 1.0000 - val_loss: 0.1427 - val_accuracy: 0.9416\n",
            "Epoch 19/100\n",
            "28/28 [==============================] - 0s 3ms/step - loss: 0.0013 - accuracy: 1.0000 - val_loss: 0.1407 - val_accuracy: 0.9343\n",
            "Epoch 20/100\n",
            "28/28 [==============================] - 0s 3ms/step - loss: 0.0012 - accuracy: 1.0000 - val_loss: 0.1452 - val_accuracy: 0.9416\n",
            "Epoch 21/100\n",
            "28/28 [==============================] - 0s 3ms/step - loss: 0.0012 - accuracy: 1.0000 - val_loss: 0.1433 - val_accuracy: 0.9416\n",
            "Epoch 22/100\n",
            "28/28 [==============================] - 0s 3ms/step - loss: 0.0011 - accuracy: 1.0000 - val_loss: 0.1413 - val_accuracy: 0.9343\n",
            "Epoch 23/100\n",
            "28/28 [==============================] - 0s 3ms/step - loss: 9.8450e-04 - accuracy: 1.0000 - val_loss: 0.1445 - val_accuracy: 0.9416\n",
            "Epoch 24/100\n",
            "28/28 [==============================] - 0s 3ms/step - loss: 9.3672e-04 - accuracy: 1.0000 - val_loss: 0.1406 - val_accuracy: 0.9343\n",
            "Epoch 25/100\n",
            "28/28 [==============================] - 0s 3ms/step - loss: 9.4567e-04 - accuracy: 1.0000 - val_loss: 0.1491 - val_accuracy: 0.9416\n",
            "Epoch 26/100\n",
            "28/28 [==============================] - 0s 3ms/step - loss: 9.2075e-04 - accuracy: 1.0000 - val_loss: 0.1433 - val_accuracy: 0.9343\n",
            "Epoch 27/100\n",
            "28/28 [==============================] - 0s 3ms/step - loss: 7.9388e-04 - accuracy: 1.0000 - val_loss: 0.1498 - val_accuracy: 0.9416\n",
            "Epoch 28/100\n",
            "28/28 [==============================] - 0s 3ms/step - loss: 7.7279e-04 - accuracy: 1.0000 - val_loss: 0.1426 - val_accuracy: 0.9343\n",
            "Epoch 29/100\n",
            "28/28 [==============================] - 0s 3ms/step - loss: 7.9309e-04 - accuracy: 1.0000 - val_loss: 0.1484 - val_accuracy: 0.9416\n",
            "Epoch 30/100\n",
            "28/28 [==============================] - 0s 3ms/step - loss: 6.4001e-04 - accuracy: 1.0000 - val_loss: 0.1442 - val_accuracy: 0.9343\n",
            "Epoch 31/100\n",
            "28/28 [==============================] - 0s 3ms/step - loss: 6.1785e-04 - accuracy: 1.0000 - val_loss: 0.1435 - val_accuracy: 0.9343\n",
            "Epoch 32/100\n",
            "28/28 [==============================] - 0s 3ms/step - loss: 6.2164e-04 - accuracy: 1.0000 - val_loss: 0.1466 - val_accuracy: 0.9343\n",
            "Epoch 33/100\n",
            "28/28 [==============================] - 0s 3ms/step - loss: 5.5925e-04 - accuracy: 1.0000 - val_loss: 0.1462 - val_accuracy: 0.9343\n",
            "Epoch 34/100\n",
            "28/28 [==============================] - 0s 3ms/step - loss: 5.5664e-04 - accuracy: 1.0000 - val_loss: 0.1470 - val_accuracy: 0.9343\n",
            "Epoch 35/100\n",
            "28/28 [==============================] - 0s 3ms/step - loss: 5.4119e-04 - accuracy: 1.0000 - val_loss: 0.1490 - val_accuracy: 0.9343\n",
            "Epoch 36/100\n",
            "28/28 [==============================] - 0s 3ms/step - loss: 5.0570e-04 - accuracy: 1.0000 - val_loss: 0.1483 - val_accuracy: 0.9343\n",
            "Epoch 37/100\n",
            "28/28 [==============================] - 0s 3ms/step - loss: 4.5111e-04 - accuracy: 1.0000 - val_loss: 0.1495 - val_accuracy: 0.9343\n",
            "Epoch 38/100\n",
            "28/28 [==============================] - 0s 3ms/step - loss: 4.2917e-04 - accuracy: 1.0000 - val_loss: 0.1493 - val_accuracy: 0.9343\n",
            "Epoch 39/100\n",
            "28/28 [==============================] - 0s 3ms/step - loss: 4.2918e-04 - accuracy: 1.0000 - val_loss: 0.1461 - val_accuracy: 0.9416\n",
            "Epoch 40/100\n",
            "28/28 [==============================] - 0s 3ms/step - loss: 4.1254e-04 - accuracy: 1.0000 - val_loss: 0.1528 - val_accuracy: 0.9343\n",
            "Epoch 41/100\n",
            "28/28 [==============================] - 0s 3ms/step - loss: 4.2821e-04 - accuracy: 1.0000 - val_loss: 0.1517 - val_accuracy: 0.9343\n",
            "Epoch 42/100\n",
            "28/28 [==============================] - 0s 3ms/step - loss: 3.5118e-04 - accuracy: 1.0000 - val_loss: 0.1495 - val_accuracy: 0.9416\n",
            "Epoch 43/100\n",
            "28/28 [==============================] - 0s 3ms/step - loss: 3.6676e-04 - accuracy: 1.0000 - val_loss: 0.1515 - val_accuracy: 0.9343\n",
            "Epoch 44/100\n",
            "28/28 [==============================] - 0s 3ms/step - loss: 3.5815e-04 - accuracy: 1.0000 - val_loss: 0.1504 - val_accuracy: 0.9416\n",
            "Epoch 45/100\n",
            "28/28 [==============================] - 0s 3ms/step - loss: 3.3041e-04 - accuracy: 1.0000 - val_loss: 0.1551 - val_accuracy: 0.9343\n",
            "Epoch 46/100\n",
            "28/28 [==============================] - 0s 3ms/step - loss: 3.2245e-04 - accuracy: 1.0000 - val_loss: 0.1531 - val_accuracy: 0.9416\n",
            "Epoch 47/100\n",
            "28/28 [==============================] - 0s 3ms/step - loss: 3.1225e-04 - accuracy: 1.0000 - val_loss: 0.1515 - val_accuracy: 0.9416\n",
            "Epoch 48/100\n",
            "28/28 [==============================] - 0s 3ms/step - loss: 2.8305e-04 - accuracy: 1.0000 - val_loss: 0.1527 - val_accuracy: 0.9416\n",
            "Epoch 49/100\n",
            "28/28 [==============================] - 0s 3ms/step - loss: 3.0359e-04 - accuracy: 1.0000 - val_loss: 0.1547 - val_accuracy: 0.9416\n",
            "Epoch 50/100\n",
            "28/28 [==============================] - 0s 3ms/step - loss: 3.0690e-04 - accuracy: 1.0000 - val_loss: 0.1535 - val_accuracy: 0.9416\n",
            "Epoch 51/100\n",
            "28/28 [==============================] - 0s 3ms/step - loss: 2.8441e-04 - accuracy: 1.0000 - val_loss: 0.1582 - val_accuracy: 0.9343\n",
            "Epoch 52/100\n",
            "28/28 [==============================] - 0s 3ms/step - loss: 2.6497e-04 - accuracy: 1.0000 - val_loss: 0.1524 - val_accuracy: 0.9416\n",
            "Epoch 53/100\n",
            "28/28 [==============================] - 0s 2ms/step - loss: 2.4771e-04 - accuracy: 1.0000 - val_loss: 0.1550 - val_accuracy: 0.9416\n",
            "Epoch 54/100\n",
            "28/28 [==============================] - 0s 3ms/step - loss: 2.5259e-04 - accuracy: 1.0000 - val_loss: 0.1554 - val_accuracy: 0.9416\n",
            "Epoch 55/100\n",
            "28/28 [==============================] - 0s 3ms/step - loss: 2.3780e-04 - accuracy: 1.0000 - val_loss: 0.1570 - val_accuracy: 0.9416\n",
            "Epoch 56/100\n",
            "28/28 [==============================] - 0s 3ms/step - loss: 2.3443e-04 - accuracy: 1.0000 - val_loss: 0.1568 - val_accuracy: 0.9416\n",
            "Epoch 57/100\n",
            "28/28 [==============================] - 0s 3ms/step - loss: 2.3340e-04 - accuracy: 1.0000 - val_loss: 0.1561 - val_accuracy: 0.9416\n",
            "Epoch 58/100\n",
            "28/28 [==============================] - 0s 3ms/step - loss: 2.2648e-04 - accuracy: 1.0000 - val_loss: 0.1560 - val_accuracy: 0.9416\n",
            "Epoch 59/100\n",
            "28/28 [==============================] - 0s 3ms/step - loss: 2.1607e-04 - accuracy: 1.0000 - val_loss: 0.1608 - val_accuracy: 0.9416\n",
            "Epoch 60/100\n",
            "28/28 [==============================] - 0s 3ms/step - loss: 2.0758e-04 - accuracy: 1.0000 - val_loss: 0.1621 - val_accuracy: 0.9343\n",
            "Epoch 61/100\n",
            "28/28 [==============================] - 0s 3ms/step - loss: 1.9827e-04 - accuracy: 1.0000 - val_loss: 0.1586 - val_accuracy: 0.9416\n",
            "Epoch 62/100\n",
            "28/28 [==============================] - 0s 3ms/step - loss: 2.0190e-04 - accuracy: 1.0000 - val_loss: 0.1569 - val_accuracy: 0.9416\n",
            "Epoch 63/100\n",
            "28/28 [==============================] - 0s 3ms/step - loss: 2.0138e-04 - accuracy: 1.0000 - val_loss: 0.1585 - val_accuracy: 0.9416\n",
            "Epoch 64/100\n",
            "28/28 [==============================] - 0s 3ms/step - loss: 1.8759e-04 - accuracy: 1.0000 - val_loss: 0.1569 - val_accuracy: 0.9416\n",
            "Epoch 65/100\n",
            "28/28 [==============================] - 0s 3ms/step - loss: 2.1138e-04 - accuracy: 1.0000 - val_loss: 0.1673 - val_accuracy: 0.9343\n",
            "Epoch 66/100\n",
            "28/28 [==============================] - 0s 3ms/step - loss: 2.1315e-04 - accuracy: 1.0000 - val_loss: 0.1592 - val_accuracy: 0.9416\n",
            "Epoch 67/100\n",
            "28/28 [==============================] - 0s 3ms/step - loss: 1.6417e-04 - accuracy: 1.0000 - val_loss: 0.1628 - val_accuracy: 0.9416\n",
            "Epoch 68/100\n",
            "28/28 [==============================] - 0s 3ms/step - loss: 1.5985e-04 - accuracy: 1.0000 - val_loss: 0.1587 - val_accuracy: 0.9416\n",
            "Epoch 69/100\n",
            "28/28 [==============================] - 0s 3ms/step - loss: 1.5574e-04 - accuracy: 1.0000 - val_loss: 0.1598 - val_accuracy: 0.9416\n",
            "Epoch 70/100\n",
            "28/28 [==============================] - 0s 2ms/step - loss: 1.5480e-04 - accuracy: 1.0000 - val_loss: 0.1614 - val_accuracy: 0.9416\n",
            "Epoch 71/100\n",
            "28/28 [==============================] - 0s 4ms/step - loss: 1.5548e-04 - accuracy: 1.0000 - val_loss: 0.1671 - val_accuracy: 0.9416\n",
            "Epoch 72/100\n",
            "28/28 [==============================] - 0s 3ms/step - loss: 1.4532e-04 - accuracy: 1.0000 - val_loss: 0.1605 - val_accuracy: 0.9416\n",
            "Epoch 73/100\n",
            "28/28 [==============================] - 0s 3ms/step - loss: 1.6007e-04 - accuracy: 1.0000 - val_loss: 0.1605 - val_accuracy: 0.9416\n",
            "Epoch 74/100\n",
            "28/28 [==============================] - 0s 3ms/step - loss: 1.7045e-04 - accuracy: 1.0000 - val_loss: 0.1704 - val_accuracy: 0.9343\n",
            "Epoch 75/100\n",
            "28/28 [==============================] - 0s 3ms/step - loss: 1.4958e-04 - accuracy: 1.0000 - val_loss: 0.1602 - val_accuracy: 0.9416\n",
            "Epoch 76/100\n",
            "28/28 [==============================] - 0s 3ms/step - loss: 1.2726e-04 - accuracy: 1.0000 - val_loss: 0.1663 - val_accuracy: 0.9416\n",
            "Epoch 77/100\n",
            "28/28 [==============================] - 0s 3ms/step - loss: 1.2488e-04 - accuracy: 1.0000 - val_loss: 0.1670 - val_accuracy: 0.9416\n",
            "Epoch 78/100\n",
            "28/28 [==============================] - 0s 3ms/step - loss: 1.2823e-04 - accuracy: 1.0000 - val_loss: 0.1631 - val_accuracy: 0.9416\n",
            "Epoch 79/100\n",
            "28/28 [==============================] - 0s 3ms/step - loss: 1.1408e-04 - accuracy: 1.0000 - val_loss: 0.1729 - val_accuracy: 0.9416\n",
            "Epoch 80/100\n",
            "28/28 [==============================] - 0s 3ms/step - loss: 1.2111e-04 - accuracy: 1.0000 - val_loss: 0.1681 - val_accuracy: 0.9416\n",
            "Epoch 81/100\n",
            "28/28 [==============================] - 0s 3ms/step - loss: 1.1663e-04 - accuracy: 1.0000 - val_loss: 0.1660 - val_accuracy: 0.9416\n",
            "Epoch 82/100\n",
            "28/28 [==============================] - 0s 3ms/step - loss: 1.0566e-04 - accuracy: 1.0000 - val_loss: 0.1690 - val_accuracy: 0.9416\n",
            "Epoch 83/100\n",
            "28/28 [==============================] - 0s 3ms/step - loss: 1.0820e-04 - accuracy: 1.0000 - val_loss: 0.1684 - val_accuracy: 0.9416\n",
            "Epoch 84/100\n",
            "28/28 [==============================] - 0s 3ms/step - loss: 1.0556e-04 - accuracy: 1.0000 - val_loss: 0.1699 - val_accuracy: 0.9416\n",
            "Epoch 85/100\n",
            "28/28 [==============================] - 0s 3ms/step - loss: 1.0464e-04 - accuracy: 1.0000 - val_loss: 0.1677 - val_accuracy: 0.9416\n",
            "Epoch 86/100\n",
            "28/28 [==============================] - 0s 3ms/step - loss: 1.0380e-04 - accuracy: 1.0000 - val_loss: 0.1685 - val_accuracy: 0.9416\n",
            "Epoch 87/100\n",
            "28/28 [==============================] - 0s 3ms/step - loss: 9.6559e-05 - accuracy: 1.0000 - val_loss: 0.1712 - val_accuracy: 0.9416\n",
            "Epoch 88/100\n",
            "28/28 [==============================] - 0s 3ms/step - loss: 9.2948e-05 - accuracy: 1.0000 - val_loss: 0.1718 - val_accuracy: 0.9416\n",
            "Epoch 89/100\n",
            "28/28 [==============================] - 0s 3ms/step - loss: 1.0163e-04 - accuracy: 1.0000 - val_loss: 0.1708 - val_accuracy: 0.9416\n",
            "Epoch 90/100\n",
            "28/28 [==============================] - 0s 3ms/step - loss: 1.0644e-04 - accuracy: 1.0000 - val_loss: 0.1705 - val_accuracy: 0.9416\n",
            "Epoch 91/100\n",
            "28/28 [==============================] - 0s 3ms/step - loss: 8.8515e-05 - accuracy: 1.0000 - val_loss: 0.1719 - val_accuracy: 0.9416\n",
            "Epoch 92/100\n",
            "28/28 [==============================] - 0s 3ms/step - loss: 8.5654e-05 - accuracy: 1.0000 - val_loss: 0.1721 - val_accuracy: 0.9416\n",
            "Epoch 93/100\n",
            "28/28 [==============================] - 0s 3ms/step - loss: 8.2786e-05 - accuracy: 1.0000 - val_loss: 0.1728 - val_accuracy: 0.9416\n",
            "Epoch 94/100\n",
            "28/28 [==============================] - 0s 4ms/step - loss: 8.5012e-05 - accuracy: 1.0000 - val_loss: 0.1707 - val_accuracy: 0.9416\n",
            "Epoch 95/100\n",
            "28/28 [==============================] - 0s 3ms/step - loss: 8.0020e-05 - accuracy: 1.0000 - val_loss: 0.1755 - val_accuracy: 0.9416\n",
            "Epoch 96/100\n",
            "28/28 [==============================] - 0s 3ms/step - loss: 8.1435e-05 - accuracy: 1.0000 - val_loss: 0.1769 - val_accuracy: 0.9416\n",
            "Epoch 97/100\n",
            "28/28 [==============================] - 0s 3ms/step - loss: 7.7659e-05 - accuracy: 1.0000 - val_loss: 0.1735 - val_accuracy: 0.9416\n",
            "Epoch 98/100\n",
            "28/28 [==============================] - 0s 3ms/step - loss: 7.7990e-05 - accuracy: 1.0000 - val_loss: 0.1730 - val_accuracy: 0.9416\n",
            "Epoch 99/100\n",
            "28/28 [==============================] - 0s 3ms/step - loss: 8.2959e-05 - accuracy: 1.0000 - val_loss: 0.1751 - val_accuracy: 0.9416\n",
            "Epoch 100/100\n",
            "28/28 [==============================] - 0s 3ms/step - loss: 7.4227e-05 - accuracy: 1.0000 - val_loss: 0.1748 - val_accuracy: 0.9416\n"
          ]
        },
        {
          "output_type": "execute_result",
          "data": {
            "text/plain": [
              "<keras.callbacks.History at 0x7f9663be7550>"
            ]
          },
          "metadata": {},
          "execution_count": 37
        }
      ]
    },
    {
      "cell_type": "code",
      "metadata": {
        "colab": {
          "base_uri": "https://localhost:8080/"
        },
        "id": "pP1cKWe_fboV",
        "outputId": "f091e91e-9409-46c7-8360-ede1b58cd197"
      },
      "source": [
        "# evaluate the model\n",
        "loss, accuracy = final_model.evaluate(x_train, y_train, verbose=0)\n",
        "print('Accuracy: %f' % (accuracy))\n",
        "print('Loss: %f' % (loss))"
      ],
      "execution_count": null,
      "outputs": [
        {
          "output_type": "stream",
          "name": "stdout",
          "text": [
            "Accuracy: 0.980630\n",
            "Loss: 0.058044\n"
          ]
        }
      ]
    },
    {
      "cell_type": "code",
      "source": [
        "loss, accuracy = final_model.evaluate(x_test, y_test, verbose=0)\n",
        "print('Accuracy: %f' % (accuracy))\n",
        "print('Loss: %f' % (loss))"
      ],
      "metadata": {
        "colab": {
          "base_uri": "https://localhost:8080/"
        },
        "id": "xUC2Gy7Iw-Mj",
        "outputId": "0f8c8a37-0e5f-465e-8f3d-b1079206dd48"
      },
      "execution_count": null,
      "outputs": [
        {
          "output_type": "stream",
          "name": "stdout",
          "text": [
            "Accuracy: 0.932692\n",
            "Loss: 0.373422\n"
          ]
        }
      ]
    },
    {
      "cell_type": "code",
      "source": [
        "history = final_model.fit(x_train, y_train,\n",
        "   batch_size = 128, epochs = 10,\n",
        "   verbose = 2, validation_data = (x_test, y_test))"
      ],
      "metadata": {
        "colab": {
          "base_uri": "https://localhost:8080/"
        },
        "id": "KNMcvpWByywj",
        "outputId": "deb8568e-c55a-433a-f227-c002b0191087"
      },
      "execution_count": null,
      "outputs": [
        {
          "output_type": "stream",
          "name": "stdout",
          "text": [
            "Epoch 1/10\n",
            "4/4 - 0s - loss: 0.0650 - accuracy: 0.9806 - val_loss: 0.2473 - val_accuracy: 0.9615 - 189ms/epoch - 47ms/step\n",
            "Epoch 2/10\n",
            "4/4 - 0s - loss: 0.0389 - accuracy: 0.9855 - val_loss: 0.2342 - val_accuracy: 0.9519 - 55ms/epoch - 14ms/step\n",
            "Epoch 3/10\n",
            "4/4 - 0s - loss: 0.0270 - accuracy: 0.9855 - val_loss: 0.1295 - val_accuracy: 0.9519 - 47ms/epoch - 12ms/step\n",
            "Epoch 4/10\n",
            "4/4 - 0s - loss: 0.0122 - accuracy: 0.9927 - val_loss: 0.0702 - val_accuracy: 0.9808 - 48ms/epoch - 12ms/step\n",
            "Epoch 5/10\n",
            "4/4 - 0s - loss: 0.0129 - accuracy: 0.9927 - val_loss: 0.0963 - val_accuracy: 0.9712 - 47ms/epoch - 12ms/step\n",
            "Epoch 6/10\n",
            "4/4 - 0s - loss: 0.0125 - accuracy: 0.9976 - val_loss: 0.1157 - val_accuracy: 0.9615 - 51ms/epoch - 13ms/step\n",
            "Epoch 7/10\n",
            "4/4 - 0s - loss: 0.0077 - accuracy: 0.9976 - val_loss: 0.0975 - val_accuracy: 0.9808 - 63ms/epoch - 16ms/step\n",
            "Epoch 8/10\n",
            "4/4 - 0s - loss: 0.0068 - accuracy: 0.9976 - val_loss: 0.1071 - val_accuracy: 0.9615 - 51ms/epoch - 13ms/step\n",
            "Epoch 9/10\n",
            "4/4 - 0s - loss: 0.0050 - accuracy: 0.9976 - val_loss: 0.1312 - val_accuracy: 0.9615 - 49ms/epoch - 12ms/step\n",
            "Epoch 10/10\n",
            "4/4 - 0s - loss: 0.0047 - accuracy: 0.9976 - val_loss: 0.1286 - val_accuracy: 0.9615 - 43ms/epoch - 11ms/step\n"
          ]
        }
      ]
    },
    {
      "cell_type": "code",
      "source": [
        "print(history.history.keys())"
      ],
      "metadata": {
        "colab": {
          "base_uri": "https://localhost:8080/"
        },
        "id": "s__a1lMGzgzY",
        "outputId": "ce4342cf-b5ae-45b8-a89e-405cb05b2e7b"
      },
      "execution_count": null,
      "outputs": [
        {
          "output_type": "stream",
          "name": "stdout",
          "text": [
            "dict_keys(['loss', 'accuracy', 'val_loss', 'val_accuracy'])\n"
          ]
        }
      ]
    },
    {
      "cell_type": "code",
      "source": [
        "# summarize history for accuracy\n",
        "import matplotlib.pyplot as plt\n",
        "plt.plot(history.history['accuracy'])\n",
        "plt.plot(history.history['val_accuracy'])\n",
        "plt.title('model accuracy')\n",
        "plt.ylabel('accuracy')\n",
        "plt.xlabel('epoch')\n",
        "plt.legend(['train', 'test'], loc='lower right')\n",
        "plt.show()\n",
        "# summarize history for loss\n",
        "plt.plot(history.history['loss'])\n",
        "plt.plot(history.history['val_loss'])\n",
        "plt.title('model loss')\n",
        "plt.ylabel('loss')\n",
        "plt.xlabel('epoch')\n",
        "plt.legend(['train', 'test'], loc='upper right')\n",
        "plt.show()"
      ],
      "metadata": {
        "colab": {
          "base_uri": "https://localhost:8080/",
          "height": 573
        },
        "id": "lmTTVAiKzpdP",
        "outputId": "fe0831b3-bc12-46a9-aa0e-0bf565549162"
      },
      "execution_count": null,
      "outputs": [
        {
          "output_type": "display_data",
          "data": {
            "image/png": "[encoded data removed]",
            "text/plain": [
              "<Figure size 432x288 with 1 Axes>"
            ]
          },
          "metadata": {
            "needs_background": "light"
          }
        },
        {
          "output_type": "display_data",
          "data": {
            "image/png": "[encoded data removed]",
            "text/plain": [
              "<Figure size 432x288 with 1 Axes>"
            ]
          },
          "metadata": {
            "needs_background": "light"
          }
        }
      ]
    },
    {
      "cell_type": "code",
      "metadata": {
        "id": "q2bxjyPU2_Lh"
      },
      "source": [
        ""
      ],
      "execution_count": null,
      "outputs": []
    }
  ]
}